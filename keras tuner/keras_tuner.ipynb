{
  "nbformat": 4,
  "nbformat_minor": 0,
  "metadata": {
    "colab": {
      "provenance": [],
      "gpuType": "T4"
    },
    "kernelspec": {
      "name": "python3",
      "display_name": "Python 3"
    },
    "language_info": {
      "name": "python"
    },
    "accelerator": "GPU"
  },
  "cells": [
    {
      "cell_type": "code",
      "execution_count": null,
      "metadata": {
        "colab": {
          "base_uri": "https://localhost:8080/"
        },
        "id": "-cMTevRYLsRJ",
        "outputId": "0f5c392c-d5b9-4b37-b794-851c5358977d"
      },
      "outputs": [
        {
          "output_type": "stream",
          "name": "stdout",
          "text": [
            "\u001b[?25l     \u001b[90m━━━━━━━━━━━━━━━━━━━━━━━━━━━━━━━━━━━━━━━━\u001b[0m \u001b[32m0.0/176.1 kB\u001b[0m \u001b[31m?\u001b[0m eta \u001b[36m-:--:--\u001b[0m\r\u001b[2K     \u001b[91m━━━━━━━━━━━━━━━━━━━━━━━━━━━━━━━━━━\u001b[0m\u001b[90m╺\u001b[0m\u001b[90m━━━━\u001b[0m \u001b[32m153.6/176.1 kB\u001b[0m \u001b[31m4.3 MB/s\u001b[0m eta \u001b[36m0:00:01\u001b[0m\r\u001b[2K     \u001b[90m━━━━━━━━━━━━━━━━━━━━━━━━━━━━━━━━━━━━━━━\u001b[0m \u001b[32m176.1/176.1 kB\u001b[0m \u001b[31m3.7 MB/s\u001b[0m eta \u001b[36m0:00:00\u001b[0m\n",
            "\u001b[?25h"
          ]
        }
      ],
      "source": [
        "pip install -q -U keras-tuner"
      ]
    },
    {
      "cell_type": "code",
      "source": [
        "import tensorflow as tf"
      ],
      "metadata": {
        "id": "BLzIdFXrw7pj"
      },
      "execution_count": null,
      "outputs": []
    },
    {
      "cell_type": "code",
      "source": [
        "(x_train,y_train),(x_test,y_test) = tf.keras.datasets.mnist.load_data()"
      ],
      "metadata": {
        "colab": {
          "base_uri": "https://localhost:8080/"
        },
        "id": "CQbA-KIXxDCz",
        "outputId": "63797d92-8962-4953-ee6f-559e162dbceb"
      },
      "execution_count": null,
      "outputs": [
        {
          "output_type": "stream",
          "name": "stdout",
          "text": [
            "Downloading data from https://storage.googleapis.com/tensorflow/tf-keras-datasets/mnist.npz\n",
            "11490434/11490434 [==============================] - 0s 0us/step\n"
          ]
        }
      ]
    },
    {
      "cell_type": "code",
      "source": [
        "x_train = x_train/255\n",
        "x_test = x_test/255"
      ],
      "metadata": {
        "id": "ZjEbVbRPxO-w"
      },
      "execution_count": null,
      "outputs": []
    },
    {
      "cell_type": "code",
      "source": [
        "def tuner_model(hp):\n",
        "  model = tf.keras.models.Sequential()\n",
        "\n",
        "  hp_conv1 = hp.Int('conv1',min_value=32  , max_value = 64 ,step = 32)\n",
        "  hp_conv2 = hp.Int('conv2',min_value=32  , max_value = 64 ,step = 32)\n",
        "  hp_den1 = hp.Int('den1'  ,min_value=60  , max_value = 100 ,step = 20)\n",
        "  hp_den2 = hp.Int('den2'  ,min_value=20  , max_value = 60 ,step = 20)\n",
        "  hp_act1 = hp.Choice('activation',values = ['relu','tanh'])\n",
        "\n",
        "  model.add(tf.keras.layers.Conv2D(filters = hp_conv1 , kernel_size =  (3,3),activation = hp_act1 , input_shape = (28,28,1)))\n",
        "  model.add(tf.keras.layers.Conv2D(filters = hp_conv2 , kernel_size =  (3,3),activation = hp_act1 ))\n",
        "  model.add(tf.keras.layers.Flatten())\n",
        "  model.add(tf.keras.layers.Dense(hp_den1,activation = hp_act1))\n",
        "  model.add(tf.keras.layers.Dense(hp_den2,activation = hp_act1))\n",
        "  model.add(tf.keras.layers.Dense(10,activation = 'softmax'))\n",
        "\n",
        "  model.compile(optimizer = tf.keras.optimizers.Adam(learning_rate = 0.001 , weight_decay=1e-5),\n",
        "                loss = tf.keras.losses.SparseCategoricalCrossentropy(),\n",
        "                metrics =['accuracy'])\n",
        "  return model"
      ],
      "metadata": {
        "id": "KoVWCf_dxlE1"
      },
      "execution_count": null,
      "outputs": []
    },
    {
      "cell_type": "code",
      "source": [
        "import keras_tuner as kt\n",
        "\n",
        "tuner_ = kt.Hyperband(tuner_model,objective = 'val_accuracy' , max_epochs =  10 , factor = 3 , directory = 'keras_tuner',project_name=  'tuner_model')"
      ],
      "metadata": {
        "id": "nV8JkkF3xqiV"
      },
      "execution_count": null,
      "outputs": []
    },
    {
      "cell_type": "code",
      "source": [
        "from tensorflow.keras.callbacks import ModelCheckpoint, EarlyStopping, ReduceLROnPlateau"
      ],
      "metadata": {
        "id": "idGd5c8R_0AF"
      },
      "execution_count": null,
      "outputs": []
    },
    {
      "cell_type": "code",
      "source": [
        "earlystop = EarlyStopping(monitor = 'val_loss',patience=5, verbose=1)\n",
        "reduce_lr = ReduceLROnPlateau(factor=0.1, patience = 3)"
      ],
      "metadata": {
        "id": "Ro9YlFWnzoxx"
      },
      "execution_count": null,
      "outputs": []
    },
    {
      "cell_type": "code",
      "source": [
        "tuner_.search(x_train,y_train,epochs = 50 , validation_split=0.2 ,callbacks = [earlystop,reduce_lr])"
      ],
      "metadata": {
        "colab": {
          "base_uri": "https://localhost:8080/"
        },
        "id": "Wpf8pfP68tFk",
        "outputId": "333286ab-a388-43ef-cd53-dcdb01c65f11"
      },
      "execution_count": null,
      "outputs": [
        {
          "output_type": "stream",
          "name": "stdout",
          "text": [
            "Trial 30 Complete [00h 01m 24s]\n",
            "val_accuracy: 0.9620000123977661\n",
            "\n",
            "Best val_accuracy So Far: 0.9905833601951599\n",
            "Total elapsed time: 00h 20m 39s\n"
          ]
        }
      ]
    },
    {
      "cell_type": "code",
      "source": [
        "model1 = tuner_.hypermodel.build(tuner_.get_best_hyperparameters(num_trials=1)[0])"
      ],
      "metadata": {
        "id": "8sZI6_yQJCtX"
      },
      "execution_count": null,
      "outputs": []
    },
    {
      "cell_type": "code",
      "source": [
        "model1.fit(x_train,y_train,epochs = 50 , validation_split=0.2 ,callbacks = [earlystop,reduce_lr])"
      ],
      "metadata": {
        "colab": {
          "base_uri": "https://localhost:8080/"
        },
        "id": "raQyzFsMURfQ",
        "outputId": "149d3a10-fe52-4385-dc8d-5b62ca46f29c"
      },
      "execution_count": null,
      "outputs": [
        {
          "output_type": "stream",
          "name": "stdout",
          "text": [
            "Epoch 1/50\n",
            "1500/1500 [==============================] - 9s 6ms/step - loss: 0.0137 - accuracy: 0.9952 - val_loss: 0.0578 - val_accuracy: 0.9866 - lr: 0.0010\n",
            "Epoch 2/50\n",
            "1500/1500 [==============================] - 8s 5ms/step - loss: 0.0100 - accuracy: 0.9970 - val_loss: 0.0599 - val_accuracy: 0.9869 - lr: 0.0010\n",
            "Epoch 3/50\n",
            "1500/1500 [==============================] - 9s 6ms/step - loss: 0.0054 - accuracy: 0.9983 - val_loss: 0.0580 - val_accuracy: 0.9891 - lr: 0.0010\n",
            "Epoch 4/50\n",
            "1500/1500 [==============================] - 8s 6ms/step - loss: 0.0082 - accuracy: 0.9977 - val_loss: 0.0712 - val_accuracy: 0.9862 - lr: 0.0010\n",
            "Epoch 5/50\n",
            "1500/1500 [==============================] - 8s 6ms/step - loss: 0.0020 - accuracy: 0.9994 - val_loss: 0.0573 - val_accuracy: 0.9893 - lr: 1.0000e-04\n",
            "Epoch 6/50\n",
            "1500/1500 [==============================] - 8s 6ms/step - loss: 1.7518e-04 - accuracy: 1.0000 - val_loss: 0.0587 - val_accuracy: 0.9894 - lr: 1.0000e-04\n",
            "Epoch 7/50\n",
            "1500/1500 [==============================] - 8s 5ms/step - loss: 7.0943e-05 - accuracy: 1.0000 - val_loss: 0.0607 - val_accuracy: 0.9896 - lr: 1.0000e-04\n",
            "Epoch 8/50\n",
            "1500/1500 [==============================] - 8s 5ms/step - loss: 3.3575e-05 - accuracy: 1.0000 - val_loss: 0.0634 - val_accuracy: 0.9898 - lr: 1.0000e-04\n",
            "Epoch 9/50\n",
            "1500/1500 [==============================] - 9s 6ms/step - loss: 1.8272e-05 - accuracy: 1.0000 - val_loss: 0.0638 - val_accuracy: 0.9898 - lr: 1.0000e-05\n",
            "Epoch 10/50\n",
            "1500/1500 [==============================] - 9s 6ms/step - loss: 1.6169e-05 - accuracy: 1.0000 - val_loss: 0.0645 - val_accuracy: 0.9898 - lr: 1.0000e-05\n",
            "Epoch 10: early stopping\n"
          ]
        },
        {
          "output_type": "execute_result",
          "data": {
            "text/plain": [
              "<keras.callbacks.History at 0x79b2d0096f80>"
            ]
          },
          "metadata": {},
          "execution_count": 30
        }
      ]
    },
    {
      "cell_type": "code",
      "source": [],
      "metadata": {
        "id": "4K-m5oCnUyfX"
      },
      "execution_count": null,
      "outputs": []
    }
  ]
}