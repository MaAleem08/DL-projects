{
  "nbformat": 4,
  "nbformat_minor": 0,
  "metadata": {
    "colab": {
      "provenance": []
    },
    "kernelspec": {
      "name": "python3",
      "display_name": "Python 3"
    },
    "language_info": {
      "name": "python"
    }
  },
  "cells": [
    {
      "cell_type": "code",
      "source": [
        "import pandas as pd\n",
        "import numpy as np\n",
        "\n",
        "# Data exploration\n",
        "import matplotlib.pyplot as plt\n",
        "import seaborn as sns\n",
        "from scipy import stats\n",
        "from scipy.stats import skew\n",
        "\n",
        "# Data wrangling and feature engineering\n",
        "from sklearn import preprocessing\n",
        "from sklearn.feature_selection import chi2\n",
        "from sklearn.linear_model import LogisticRegression\n",
        "from sklearn.feature_selection import RFE\n",
        "from sklearn.preprocessing import LabelEncoder\n",
        "\n",
        "# Deep learning\n",
        "from sklearn.model_selection import train_test_split\n",
        "from sklearn.preprocessing import StandardScaler\n",
        "import tensorflow as tf\n",
        "from tensorflow import keras\n",
        "from tensorflow.keras.models import Sequential\n",
        "from tensorflow.keras.layers import Dense, BatchNormalization, Dropout\n",
        "from tensorflow.keras.optimizers import Adam\n",
        "from tensorflow.keras.callbacks import EarlyStopping\n",
        "from sklearn.metrics import accuracy_score, confusion_matrix"
      ],
      "metadata": {
        "id": "bzyuKEVBRQLX"
      },
      "execution_count": 138,
      "outputs": []
    },
    {
      "cell_type": "code",
      "source": [
        "df = pd.read_csv('/loan_data.csv')\n",
        "df.head()"
      ],
      "metadata": {
        "id": "cYwDvIdCB6Q_",
        "colab": {
          "base_uri": "https://localhost:8080/",
          "height": 206
        },
        "outputId": "f45bc6c8-2d6c-4b44-9618-714b953b3376"
      },
      "execution_count": 3,
      "outputs": [
        {
          "output_type": "execute_result",
          "data": {
            "text/plain": [
              "   credit.policy             purpose  int.rate  installment  log.annual.inc  \\\n",
              "0              1  debt_consolidation    0.1189       829.10       11.350407   \n",
              "1              1         credit_card    0.1071       228.22       11.082143   \n",
              "2              1  debt_consolidation    0.1357       366.86       10.373491   \n",
              "3              1  debt_consolidation    0.1008       162.34       11.350407   \n",
              "4              1         credit_card    0.1426       102.92       11.299732   \n",
              "\n",
              "     dti  fico  days.with.cr.line  revol.bal  revol.util  inq.last.6mths  \\\n",
              "0  19.48   737        5639.958333      28854        52.1               0   \n",
              "1  14.29   707        2760.000000      33623        76.7               0   \n",
              "2  11.63   682        4710.000000       3511        25.6               1   \n",
              "3   8.10   712        2699.958333      33667        73.2               1   \n",
              "4  14.97   667        4066.000000       4740        39.5               0   \n",
              "\n",
              "   delinq.2yrs  pub.rec  not.fully.paid  \n",
              "0            0        0               0  \n",
              "1            0        0               0  \n",
              "2            0        0               0  \n",
              "3            0        0               0  \n",
              "4            1        0               0  "
            ],
            "text/html": [
              "\n",
              "  <div id=\"df-7aae5a98-5748-4f90-992e-580a6ef7b524\">\n",
              "    <div class=\"colab-df-container\">\n",
              "      <div>\n",
              "<style scoped>\n",
              "    .dataframe tbody tr th:only-of-type {\n",
              "        vertical-align: middle;\n",
              "    }\n",
              "\n",
              "    .dataframe tbody tr th {\n",
              "        vertical-align: top;\n",
              "    }\n",
              "\n",
              "    .dataframe thead th {\n",
              "        text-align: right;\n",
              "    }\n",
              "</style>\n",
              "<table border=\"1\" class=\"dataframe\">\n",
              "  <thead>\n",
              "    <tr style=\"text-align: right;\">\n",
              "      <th></th>\n",
              "      <th>credit.policy</th>\n",
              "      <th>purpose</th>\n",
              "      <th>int.rate</th>\n",
              "      <th>installment</th>\n",
              "      <th>log.annual.inc</th>\n",
              "      <th>dti</th>\n",
              "      <th>fico</th>\n",
              "      <th>days.with.cr.line</th>\n",
              "      <th>revol.bal</th>\n",
              "      <th>revol.util</th>\n",
              "      <th>inq.last.6mths</th>\n",
              "      <th>delinq.2yrs</th>\n",
              "      <th>pub.rec</th>\n",
              "      <th>not.fully.paid</th>\n",
              "    </tr>\n",
              "  </thead>\n",
              "  <tbody>\n",
              "    <tr>\n",
              "      <th>0</th>\n",
              "      <td>1</td>\n",
              "      <td>debt_consolidation</td>\n",
              "      <td>0.1189</td>\n",
              "      <td>829.10</td>\n",
              "      <td>11.350407</td>\n",
              "      <td>19.48</td>\n",
              "      <td>737</td>\n",
              "      <td>5639.958333</td>\n",
              "      <td>28854</td>\n",
              "      <td>52.1</td>\n",
              "      <td>0</td>\n",
              "      <td>0</td>\n",
              "      <td>0</td>\n",
              "      <td>0</td>\n",
              "    </tr>\n",
              "    <tr>\n",
              "      <th>1</th>\n",
              "      <td>1</td>\n",
              "      <td>credit_card</td>\n",
              "      <td>0.1071</td>\n",
              "      <td>228.22</td>\n",
              "      <td>11.082143</td>\n",
              "      <td>14.29</td>\n",
              "      <td>707</td>\n",
              "      <td>2760.000000</td>\n",
              "      <td>33623</td>\n",
              "      <td>76.7</td>\n",
              "      <td>0</td>\n",
              "      <td>0</td>\n",
              "      <td>0</td>\n",
              "      <td>0</td>\n",
              "    </tr>\n",
              "    <tr>\n",
              "      <th>2</th>\n",
              "      <td>1</td>\n",
              "      <td>debt_consolidation</td>\n",
              "      <td>0.1357</td>\n",
              "      <td>366.86</td>\n",
              "      <td>10.373491</td>\n",
              "      <td>11.63</td>\n",
              "      <td>682</td>\n",
              "      <td>4710.000000</td>\n",
              "      <td>3511</td>\n",
              "      <td>25.6</td>\n",
              "      <td>1</td>\n",
              "      <td>0</td>\n",
              "      <td>0</td>\n",
              "      <td>0</td>\n",
              "    </tr>\n",
              "    <tr>\n",
              "      <th>3</th>\n",
              "      <td>1</td>\n",
              "      <td>debt_consolidation</td>\n",
              "      <td>0.1008</td>\n",
              "      <td>162.34</td>\n",
              "      <td>11.350407</td>\n",
              "      <td>8.10</td>\n",
              "      <td>712</td>\n",
              "      <td>2699.958333</td>\n",
              "      <td>33667</td>\n",
              "      <td>73.2</td>\n",
              "      <td>1</td>\n",
              "      <td>0</td>\n",
              "      <td>0</td>\n",
              "      <td>0</td>\n",
              "    </tr>\n",
              "    <tr>\n",
              "      <th>4</th>\n",
              "      <td>1</td>\n",
              "      <td>credit_card</td>\n",
              "      <td>0.1426</td>\n",
              "      <td>102.92</td>\n",
              "      <td>11.299732</td>\n",
              "      <td>14.97</td>\n",
              "      <td>667</td>\n",
              "      <td>4066.000000</td>\n",
              "      <td>4740</td>\n",
              "      <td>39.5</td>\n",
              "      <td>0</td>\n",
              "      <td>1</td>\n",
              "      <td>0</td>\n",
              "      <td>0</td>\n",
              "    </tr>\n",
              "  </tbody>\n",
              "</table>\n",
              "</div>\n",
              "      <button class=\"colab-df-convert\" onclick=\"convertToInteractive('df-7aae5a98-5748-4f90-992e-580a6ef7b524')\"\n",
              "              title=\"Convert this dataframe to an interactive table.\"\n",
              "              style=\"display:none;\">\n",
              "        \n",
              "  <svg xmlns=\"http://www.w3.org/2000/svg\" height=\"24px\"viewBox=\"0 0 24 24\"\n",
              "       width=\"24px\">\n",
              "    <path d=\"M0 0h24v24H0V0z\" fill=\"none\"/>\n",
              "    <path d=\"M18.56 5.44l.94 2.06.94-2.06 2.06-.94-2.06-.94-.94-2.06-.94 2.06-2.06.94zm-11 1L8.5 8.5l.94-2.06 2.06-.94-2.06-.94L8.5 2.5l-.94 2.06-2.06.94zm10 10l.94 2.06.94-2.06 2.06-.94-2.06-.94-.94-2.06-.94 2.06-2.06.94z\"/><path d=\"M17.41 7.96l-1.37-1.37c-.4-.4-.92-.59-1.43-.59-.52 0-1.04.2-1.43.59L10.3 9.45l-7.72 7.72c-.78.78-.78 2.05 0 2.83L4 21.41c.39.39.9.59 1.41.59.51 0 1.02-.2 1.41-.59l7.78-7.78 2.81-2.81c.8-.78.8-2.07 0-2.86zM5.41 20L4 18.59l7.72-7.72 1.47 1.35L5.41 20z\"/>\n",
              "  </svg>\n",
              "      </button>\n",
              "      \n",
              "  <style>\n",
              "    .colab-df-container {\n",
              "      display:flex;\n",
              "      flex-wrap:wrap;\n",
              "      gap: 12px;\n",
              "    }\n",
              "\n",
              "    .colab-df-convert {\n",
              "      background-color: #E8F0FE;\n",
              "      border: none;\n",
              "      border-radius: 50%;\n",
              "      cursor: pointer;\n",
              "      display: none;\n",
              "      fill: #1967D2;\n",
              "      height: 32px;\n",
              "      padding: 0 0 0 0;\n",
              "      width: 32px;\n",
              "    }\n",
              "\n",
              "    .colab-df-convert:hover {\n",
              "      background-color: #E2EBFA;\n",
              "      box-shadow: 0px 1px 2px rgba(60, 64, 67, 0.3), 0px 1px 3px 1px rgba(60, 64, 67, 0.15);\n",
              "      fill: #174EA6;\n",
              "    }\n",
              "\n",
              "    [theme=dark] .colab-df-convert {\n",
              "      background-color: #3B4455;\n",
              "      fill: #D2E3FC;\n",
              "    }\n",
              "\n",
              "    [theme=dark] .colab-df-convert:hover {\n",
              "      background-color: #434B5C;\n",
              "      box-shadow: 0px 1px 3px 1px rgba(0, 0, 0, 0.15);\n",
              "      filter: drop-shadow(0px 1px 2px rgba(0, 0, 0, 0.3));\n",
              "      fill: #FFFFFF;\n",
              "    }\n",
              "  </style>\n",
              "\n",
              "      <script>\n",
              "        const buttonEl =\n",
              "          document.querySelector('#df-7aae5a98-5748-4f90-992e-580a6ef7b524 button.colab-df-convert');\n",
              "        buttonEl.style.display =\n",
              "          google.colab.kernel.accessAllowed ? 'block' : 'none';\n",
              "\n",
              "        async function convertToInteractive(key) {\n",
              "          const element = document.querySelector('#df-7aae5a98-5748-4f90-992e-580a6ef7b524');\n",
              "          const dataTable =\n",
              "            await google.colab.kernel.invokeFunction('convertToInteractive',\n",
              "                                                     [key], {});\n",
              "          if (!dataTable) return;\n",
              "\n",
              "          const docLinkHtml = 'Like what you see? Visit the ' +\n",
              "            '<a target=\"_blank\" href=https://colab.research.google.com/notebooks/data_table.ipynb>data table notebook</a>'\n",
              "            + ' to learn more about interactive tables.';\n",
              "          element.innerHTML = '';\n",
              "          dataTable['output_type'] = 'display_data';\n",
              "          await google.colab.output.renderOutput(dataTable, element);\n",
              "          const docLink = document.createElement('div');\n",
              "          docLink.innerHTML = docLinkHtml;\n",
              "          element.appendChild(docLink);\n",
              "        }\n",
              "      </script>\n",
              "    </div>\n",
              "  </div>\n",
              "  "
            ]
          },
          "metadata": {},
          "execution_count": 3
        }
      ]
    },
    {
      "cell_type": "code",
      "source": [
        "df.shape"
      ],
      "metadata": {
        "colab": {
          "base_uri": "https://localhost:8080/"
        },
        "id": "rEEOsjfKNp87",
        "outputId": "21e3ebc7-9415-4a31-a921-f8c7e25e89be"
      },
      "execution_count": 4,
      "outputs": [
        {
          "output_type": "execute_result",
          "data": {
            "text/plain": [
              "(9578, 14)"
            ]
          },
          "metadata": {},
          "execution_count": 4
        }
      ]
    },
    {
      "cell_type": "code",
      "source": [
        "df.info()"
      ],
      "metadata": {
        "colab": {
          "base_uri": "https://localhost:8080/"
        },
        "id": "JlZElVUHNttw",
        "outputId": "d4ebd1a3-29c0-4074-a630-6fdc71c83210"
      },
      "execution_count": 5,
      "outputs": [
        {
          "output_type": "stream",
          "name": "stdout",
          "text": [
            "<class 'pandas.core.frame.DataFrame'>\n",
            "RangeIndex: 9578 entries, 0 to 9577\n",
            "Data columns (total 14 columns):\n",
            " #   Column             Non-Null Count  Dtype  \n",
            "---  ------             --------------  -----  \n",
            " 0   credit.policy      9578 non-null   int64  \n",
            " 1   purpose            9578 non-null   object \n",
            " 2   int.rate           9578 non-null   float64\n",
            " 3   installment        9578 non-null   float64\n",
            " 4   log.annual.inc     9578 non-null   float64\n",
            " 5   dti                9578 non-null   float64\n",
            " 6   fico               9578 non-null   int64  \n",
            " 7   days.with.cr.line  9578 non-null   float64\n",
            " 8   revol.bal          9578 non-null   int64  \n",
            " 9   revol.util         9578 non-null   float64\n",
            " 10  inq.last.6mths     9578 non-null   int64  \n",
            " 11  delinq.2yrs        9578 non-null   int64  \n",
            " 12  pub.rec            9578 non-null   int64  \n",
            " 13  not.fully.paid     9578 non-null   int64  \n",
            "dtypes: float64(6), int64(7), object(1)\n",
            "memory usage: 1.0+ MB\n"
          ]
        }
      ]
    },
    {
      "cell_type": "code",
      "source": [
        "df['not.fully.paid'].value_counts()"
      ],
      "metadata": {
        "colab": {
          "base_uri": "https://localhost:8080/"
        },
        "id": "9CWqm2lsNum7",
        "outputId": "59ba050e-3141-45bf-c226-83a267875c84"
      },
      "execution_count": 6,
      "outputs": [
        {
          "output_type": "execute_result",
          "data": {
            "text/plain": [
              "0    8045\n",
              "1    1533\n",
              "Name: not.fully.paid, dtype: int64"
            ]
          },
          "metadata": {},
          "execution_count": 6
        }
      ]
    },
    {
      "cell_type": "code",
      "source": [
        "not_fully_paid0 = df[df['not.fully.paid']==0]\n",
        "not_fully_paid1 = df[df['not.fully.paid']==1]"
      ],
      "metadata": {
        "id": "ol75zq5rN5vY"
      },
      "execution_count": 7,
      "outputs": []
    },
    {
      "cell_type": "code",
      "source": [
        "print('not_fully_paid1    :',not_fully_paid1.shape,'\\n','not_fully_paid0    :',not_fully_paid0.shape)"
      ],
      "metadata": {
        "colab": {
          "base_uri": "https://localhost:8080/"
        },
        "id": "HD0W2rPiOf3s",
        "outputId": "7bf978fc-2ad1-4ae2-97c0-d713149db0ca"
      },
      "execution_count": 8,
      "outputs": [
        {
          "output_type": "stream",
          "name": "stdout",
          "text": [
            "not_fully_paid1    : (1533, 14) \n",
            " not_fully_paid0    : (8045, 14)\n"
          ]
        }
      ]
    },
    {
      "cell_type": "code",
      "source": [
        "from sklearn.utils import resample\n",
        "df_minority = resample(not_fully_paid1,n_samples = 8045,replace=True)\n",
        "\n",
        "df = pd.concat([not_fully_paid0,df_minority])\n",
        "\n",
        "from sklearn.utils import shuffle\n",
        "df = shuffle(df)"
      ],
      "metadata": {
        "id": "ElaGR8MwRij0"
      },
      "execution_count": 9,
      "outputs": []
    },
    {
      "cell_type": "code",
      "source": [
        "df['not.fully.paid'].value_counts()"
      ],
      "metadata": {
        "colab": {
          "base_uri": "https://localhost:8080/"
        },
        "id": "qPEQIsVpUcDa",
        "outputId": "00d01463-18a9-41a9-da30-6463498ca404"
      },
      "execution_count": 10,
      "outputs": [
        {
          "output_type": "execute_result",
          "data": {
            "text/plain": [
              "1    8045\n",
              "0    8045\n",
              "Name: not.fully.paid, dtype: int64"
            ]
          },
          "metadata": {},
          "execution_count": 10
        }
      ]
    },
    {
      "cell_type": "code",
      "source": [
        "# Separate data to include numerical data only\n",
        "num_data = df[[\"int.rate\", \"installment\", \"log.annual.inc\", \"dti\", \"fico\", \"days.with.cr.line\", \"revol.bal\", \n",
        "               \"revol.util\", \"not.fully.paid\"]]"
      ],
      "metadata": {
        "id": "wafS1xc8U21B"
      },
      "execution_count": 11,
      "outputs": []
    },
    {
      "cell_type": "code",
      "source": [
        "# Check the features in the categorical data\n",
        "cat_data = df[[\"credit.policy\", \"purpose\", \"inq.last.6mths\", \"delinq.2yrs\", \"not.fully.paid\"]]"
      ],
      "metadata": {
        "id": "G4k-D5XwYRms"
      },
      "execution_count": 12,
      "outputs": []
    },
    {
      "cell_type": "code",
      "source": [
        "num_data.describe()"
      ],
      "metadata": {
        "colab": {
          "base_uri": "https://localhost:8080/",
          "height": 301
        },
        "id": "1S50sPcxYZv8",
        "outputId": "8ce6572f-194a-43f1-9b08-1f9c679b09ac"
      },
      "execution_count": 13,
      "outputs": [
        {
          "output_type": "execute_result",
          "data": {
            "text/plain": [
              "           int.rate   installment  log.annual.inc           dti          fico  \\\n",
              "count  16090.000000  16090.000000    16090.000000  16090.000000  16090.000000   \n",
              "mean       0.126717    331.233010       10.918552     12.779421    705.695152   \n",
              "std        0.026932    216.046425        0.639732      6.968271     36.941948   \n",
              "min        0.060000     15.670000        7.547502      0.000000    612.000000   \n",
              "25%        0.110300    167.120000       10.524064      7.280000    677.000000   \n",
              "50%        0.126100    277.450000       10.915088     12.890000    702.000000   \n",
              "75%        0.143800    469.780000       11.289832     18.240000    732.000000   \n",
              "max        0.216400    940.140000       14.528354     29.960000    827.000000   \n",
              "\n",
              "       days.with.cr.line     revol.bal    revol.util  not.fully.paid  \n",
              "count       16090.000000  1.609000e+04  16090.000000    16090.000000  \n",
              "mean         4494.871600  1.921108e+04     48.959622        0.500000  \n",
              "std          2474.362329  4.398412e+04     29.142480        0.500016  \n",
              "min           178.958333  0.000000e+00      0.000000        0.000000  \n",
              "25%          2790.000000  3.163250e+03     24.900000        0.000000  \n",
              "50%          4110.000000  8.764000e+03     49.800000        0.500000  \n",
              "75%          5670.041667  1.914400e+04     73.500000        1.000000  \n",
              "max         17639.958330  1.207359e+06    119.000000        1.000000  "
            ],
            "text/html": [
              "\n",
              "  <div id=\"df-b86e9b54-50de-40c0-abe7-948aa12f6b6a\">\n",
              "    <div class=\"colab-df-container\">\n",
              "      <div>\n",
              "<style scoped>\n",
              "    .dataframe tbody tr th:only-of-type {\n",
              "        vertical-align: middle;\n",
              "    }\n",
              "\n",
              "    .dataframe tbody tr th {\n",
              "        vertical-align: top;\n",
              "    }\n",
              "\n",
              "    .dataframe thead th {\n",
              "        text-align: right;\n",
              "    }\n",
              "</style>\n",
              "<table border=\"1\" class=\"dataframe\">\n",
              "  <thead>\n",
              "    <tr style=\"text-align: right;\">\n",
              "      <th></th>\n",
              "      <th>int.rate</th>\n",
              "      <th>installment</th>\n",
              "      <th>log.annual.inc</th>\n",
              "      <th>dti</th>\n",
              "      <th>fico</th>\n",
              "      <th>days.with.cr.line</th>\n",
              "      <th>revol.bal</th>\n",
              "      <th>revol.util</th>\n",
              "      <th>not.fully.paid</th>\n",
              "    </tr>\n",
              "  </thead>\n",
              "  <tbody>\n",
              "    <tr>\n",
              "      <th>count</th>\n",
              "      <td>16090.000000</td>\n",
              "      <td>16090.000000</td>\n",
              "      <td>16090.000000</td>\n",
              "      <td>16090.000000</td>\n",
              "      <td>16090.000000</td>\n",
              "      <td>16090.000000</td>\n",
              "      <td>1.609000e+04</td>\n",
              "      <td>16090.000000</td>\n",
              "      <td>16090.000000</td>\n",
              "    </tr>\n",
              "    <tr>\n",
              "      <th>mean</th>\n",
              "      <td>0.126717</td>\n",
              "      <td>331.233010</td>\n",
              "      <td>10.918552</td>\n",
              "      <td>12.779421</td>\n",
              "      <td>705.695152</td>\n",
              "      <td>4494.871600</td>\n",
              "      <td>1.921108e+04</td>\n",
              "      <td>48.959622</td>\n",
              "      <td>0.500000</td>\n",
              "    </tr>\n",
              "    <tr>\n",
              "      <th>std</th>\n",
              "      <td>0.026932</td>\n",
              "      <td>216.046425</td>\n",
              "      <td>0.639732</td>\n",
              "      <td>6.968271</td>\n",
              "      <td>36.941948</td>\n",
              "      <td>2474.362329</td>\n",
              "      <td>4.398412e+04</td>\n",
              "      <td>29.142480</td>\n",
              "      <td>0.500016</td>\n",
              "    </tr>\n",
              "    <tr>\n",
              "      <th>min</th>\n",
              "      <td>0.060000</td>\n",
              "      <td>15.670000</td>\n",
              "      <td>7.547502</td>\n",
              "      <td>0.000000</td>\n",
              "      <td>612.000000</td>\n",
              "      <td>178.958333</td>\n",
              "      <td>0.000000e+00</td>\n",
              "      <td>0.000000</td>\n",
              "      <td>0.000000</td>\n",
              "    </tr>\n",
              "    <tr>\n",
              "      <th>25%</th>\n",
              "      <td>0.110300</td>\n",
              "      <td>167.120000</td>\n",
              "      <td>10.524064</td>\n",
              "      <td>7.280000</td>\n",
              "      <td>677.000000</td>\n",
              "      <td>2790.000000</td>\n",
              "      <td>3.163250e+03</td>\n",
              "      <td>24.900000</td>\n",
              "      <td>0.000000</td>\n",
              "    </tr>\n",
              "    <tr>\n",
              "      <th>50%</th>\n",
              "      <td>0.126100</td>\n",
              "      <td>277.450000</td>\n",
              "      <td>10.915088</td>\n",
              "      <td>12.890000</td>\n",
              "      <td>702.000000</td>\n",
              "      <td>4110.000000</td>\n",
              "      <td>8.764000e+03</td>\n",
              "      <td>49.800000</td>\n",
              "      <td>0.500000</td>\n",
              "    </tr>\n",
              "    <tr>\n",
              "      <th>75%</th>\n",
              "      <td>0.143800</td>\n",
              "      <td>469.780000</td>\n",
              "      <td>11.289832</td>\n",
              "      <td>18.240000</td>\n",
              "      <td>732.000000</td>\n",
              "      <td>5670.041667</td>\n",
              "      <td>1.914400e+04</td>\n",
              "      <td>73.500000</td>\n",
              "      <td>1.000000</td>\n",
              "    </tr>\n",
              "    <tr>\n",
              "      <th>max</th>\n",
              "      <td>0.216400</td>\n",
              "      <td>940.140000</td>\n",
              "      <td>14.528354</td>\n",
              "      <td>29.960000</td>\n",
              "      <td>827.000000</td>\n",
              "      <td>17639.958330</td>\n",
              "      <td>1.207359e+06</td>\n",
              "      <td>119.000000</td>\n",
              "      <td>1.000000</td>\n",
              "    </tr>\n",
              "  </tbody>\n",
              "</table>\n",
              "</div>\n",
              "      <button class=\"colab-df-convert\" onclick=\"convertToInteractive('df-b86e9b54-50de-40c0-abe7-948aa12f6b6a')\"\n",
              "              title=\"Convert this dataframe to an interactive table.\"\n",
              "              style=\"display:none;\">\n",
              "        \n",
              "  <svg xmlns=\"http://www.w3.org/2000/svg\" height=\"24px\"viewBox=\"0 0 24 24\"\n",
              "       width=\"24px\">\n",
              "    <path d=\"M0 0h24v24H0V0z\" fill=\"none\"/>\n",
              "    <path d=\"M18.56 5.44l.94 2.06.94-2.06 2.06-.94-2.06-.94-.94-2.06-.94 2.06-2.06.94zm-11 1L8.5 8.5l.94-2.06 2.06-.94-2.06-.94L8.5 2.5l-.94 2.06-2.06.94zm10 10l.94 2.06.94-2.06 2.06-.94-2.06-.94-.94-2.06-.94 2.06-2.06.94z\"/><path d=\"M17.41 7.96l-1.37-1.37c-.4-.4-.92-.59-1.43-.59-.52 0-1.04.2-1.43.59L10.3 9.45l-7.72 7.72c-.78.78-.78 2.05 0 2.83L4 21.41c.39.39.9.59 1.41.59.51 0 1.02-.2 1.41-.59l7.78-7.78 2.81-2.81c.8-.78.8-2.07 0-2.86zM5.41 20L4 18.59l7.72-7.72 1.47 1.35L5.41 20z\"/>\n",
              "  </svg>\n",
              "      </button>\n",
              "      \n",
              "  <style>\n",
              "    .colab-df-container {\n",
              "      display:flex;\n",
              "      flex-wrap:wrap;\n",
              "      gap: 12px;\n",
              "    }\n",
              "\n",
              "    .colab-df-convert {\n",
              "      background-color: #E8F0FE;\n",
              "      border: none;\n",
              "      border-radius: 50%;\n",
              "      cursor: pointer;\n",
              "      display: none;\n",
              "      fill: #1967D2;\n",
              "      height: 32px;\n",
              "      padding: 0 0 0 0;\n",
              "      width: 32px;\n",
              "    }\n",
              "\n",
              "    .colab-df-convert:hover {\n",
              "      background-color: #E2EBFA;\n",
              "      box-shadow: 0px 1px 2px rgba(60, 64, 67, 0.3), 0px 1px 3px 1px rgba(60, 64, 67, 0.15);\n",
              "      fill: #174EA6;\n",
              "    }\n",
              "\n",
              "    [theme=dark] .colab-df-convert {\n",
              "      background-color: #3B4455;\n",
              "      fill: #D2E3FC;\n",
              "    }\n",
              "\n",
              "    [theme=dark] .colab-df-convert:hover {\n",
              "      background-color: #434B5C;\n",
              "      box-shadow: 0px 1px 3px 1px rgba(0, 0, 0, 0.15);\n",
              "      filter: drop-shadow(0px 1px 2px rgba(0, 0, 0, 0.3));\n",
              "      fill: #FFFFFF;\n",
              "    }\n",
              "  </style>\n",
              "\n",
              "      <script>\n",
              "        const buttonEl =\n",
              "          document.querySelector('#df-b86e9b54-50de-40c0-abe7-948aa12f6b6a button.colab-df-convert');\n",
              "        buttonEl.style.display =\n",
              "          google.colab.kernel.accessAllowed ? 'block' : 'none';\n",
              "\n",
              "        async function convertToInteractive(key) {\n",
              "          const element = document.querySelector('#df-b86e9b54-50de-40c0-abe7-948aa12f6b6a');\n",
              "          const dataTable =\n",
              "            await google.colab.kernel.invokeFunction('convertToInteractive',\n",
              "                                                     [key], {});\n",
              "          if (!dataTable) return;\n",
              "\n",
              "          const docLinkHtml = 'Like what you see? Visit the ' +\n",
              "            '<a target=\"_blank\" href=https://colab.research.google.com/notebooks/data_table.ipynb>data table notebook</a>'\n",
              "            + ' to learn more about interactive tables.';\n",
              "          element.innerHTML = '';\n",
              "          dataTable['output_type'] = 'display_data';\n",
              "          await google.colab.output.renderOutput(dataTable, element);\n",
              "          const docLink = document.createElement('div');\n",
              "          docLink.innerHTML = docLinkHtml;\n",
              "          element.appendChild(docLink);\n",
              "        }\n",
              "      </script>\n",
              "    </div>\n",
              "  </div>\n",
              "  "
            ]
          },
          "metadata": {},
          "execution_count": 13
        }
      ]
    },
    {
      "cell_type": "code",
      "source": [
        "num_data.hist(figsize=(30,30),bins=20,legend=True)\n",
        "plt.show()"
      ],
      "metadata": {
        "colab": {
          "base_uri": "https://localhost:8080/",
          "height": 1000
        },
        "id": "EXXakJ1qYqbT",
        "outputId": "154c603d-f4fb-4e77-cf5d-678d4afa9fa7"
      },
      "execution_count": 14,
      "outputs": [
        {
          "output_type": "display_data",
          "data": {
            "text/plain": [
              "<Figure size 2160x2160 with 9 Axes>"
            ],
            "image/png": "[encoded data removed]"
          },
          "metadata": {
            "needs_background": "light"
          }
        }
      ]
    },
    {
      "cell_type": "code",
      "source": [
        "fig,ax= plt.subplots(3,3,figsize=(15,12),sharex=True)\n",
        "fig.subplots_adjust(hspace=0.5)\n",
        "for i,cols in enumerate(num_data):\n",
        "  axx = plt.subplot(3,3,i+1)\n",
        "  stats.probplot(num_data[cols],plot = axx)\n",
        "  axx.set_title(f\"Probability Plot for {cols}\")\n",
        "plt.show()"
      ],
      "metadata": {
        "colab": {
          "base_uri": "https://localhost:8080/",
          "height": 730
        },
        "id": "818MkPyOaPij",
        "outputId": "eb3e34ff-bac1-44e6-dd18-3b4f64e6fac6"
      },
      "execution_count": 15,
      "outputs": [
        {
          "output_type": "display_data",
          "data": {
            "text/plain": [
              "<Figure size 1080x864 with 9 Axes>"
            ],
            "image/png": "[encoded data removed]"
          },
          "metadata": {
            "needs_background": "light"
          }
        }
      ]
    },
    {
      "cell_type": "code",
      "source": [
        "#  it can be seen that the variables such as revol.bal, days.with.cr.line, installment, fico, and revol.util \n",
        "# they may contain outliers because the values in these variables do not fall well around the best fit line."
      ],
      "metadata": {
        "id": "1Xax_tVXi2SO"
      },
      "execution_count": 16,
      "outputs": []
    },
    {
      "cell_type": "code",
      "source": [
        "fig,ax = plt.subplots(3,3,figsize=(15,12),sharex=True)\n",
        "fig.subplots_adjust(hspace=0.5)\n",
        "\n",
        "for i,j in enumerate(num_data):\n",
        "  ax = plt.subplot(3,3,i+1)\n",
        "  sns.boxplot(y=num_data[j])\n",
        "  ax.set_title(f'boxlpot for {j}')\n",
        "plt.show()"
      ],
      "metadata": {
        "colab": {
          "base_uri": "https://localhost:8080/",
          "height": 703
        },
        "id": "047ju4zIbJ9A",
        "outputId": "10852884-1091-4d4e-d81d-2d6926734cf6"
      },
      "execution_count": 17,
      "outputs": [
        {
          "output_type": "display_data",
          "data": {
            "text/plain": [
              "<Figure size 1080x864 with 9 Axes>"
            ],
            "image/png": "[encoded data removed]"
          },
          "metadata": {
            "needs_background": "light"
          }
        }
      ]
    },
    {
      "cell_type": "code",
      "source": [
        "# From the graphs above, it can be seen that the outliers exist in the variables \n",
        "# such as the following: int.rate, installment, log.annual.inc, fico, days.with.cr.line and revol.bal. These outliers will be handles later."
      ],
      "metadata": {
        "id": "27bXZ9K0c2jq"
      },
      "execution_count": 18,
      "outputs": []
    },
    {
      "cell_type": "code",
      "source": [
        "# Converting categorical feature into numerical feature\n",
        "cat_data = cat_data.copy()\n",
        "le = preprocessing.LabelEncoder()\n",
        "cat_data[\"purpose\"] = le.fit_transform(cat_data[\"purpose\"].astype(str))\n",
        "cat_data.head()"
      ],
      "metadata": {
        "colab": {
          "base_uri": "https://localhost:8080/",
          "height": 206
        },
        "id": "VmGoiuzbjtuN",
        "outputId": "669809ec-1926-4ba1-e4c3-6146bb1544ed"
      },
      "execution_count": 19,
      "outputs": [
        {
          "output_type": "execute_result",
          "data": {
            "text/plain": [
              "      credit.policy  purpose  inq.last.6mths  delinq.2yrs  not.fully.paid\n",
              "8008              0        6               5            2               1\n",
              "7050              1        2               0            0               0\n",
              "6386              1        2               5            0               0\n",
              "8744              0        1               8            1               1\n",
              "8357              0        0               5            1               1"
            ],
            "text/html": [
              "\n",
              "  <div id=\"df-f70a811e-b34c-41ec-b9ad-f3604c8f3b8e\">\n",
              "    <div class=\"colab-df-container\">\n",
              "      <div>\n",
              "<style scoped>\n",
              "    .dataframe tbody tr th:only-of-type {\n",
              "        vertical-align: middle;\n",
              "    }\n",
              "\n",
              "    .dataframe tbody tr th {\n",
              "        vertical-align: top;\n",
              "    }\n",
              "\n",
              "    .dataframe thead th {\n",
              "        text-align: right;\n",
              "    }\n",
              "</style>\n",
              "<table border=\"1\" class=\"dataframe\">\n",
              "  <thead>\n",
              "    <tr style=\"text-align: right;\">\n",
              "      <th></th>\n",
              "      <th>credit.policy</th>\n",
              "      <th>purpose</th>\n",
              "      <th>inq.last.6mths</th>\n",
              "      <th>delinq.2yrs</th>\n",
              "      <th>not.fully.paid</th>\n",
              "    </tr>\n",
              "  </thead>\n",
              "  <tbody>\n",
              "    <tr>\n",
              "      <th>8008</th>\n",
              "      <td>0</td>\n",
              "      <td>6</td>\n",
              "      <td>5</td>\n",
              "      <td>2</td>\n",
              "      <td>1</td>\n",
              "    </tr>\n",
              "    <tr>\n",
              "      <th>7050</th>\n",
              "      <td>1</td>\n",
              "      <td>2</td>\n",
              "      <td>0</td>\n",
              "      <td>0</td>\n",
              "      <td>0</td>\n",
              "    </tr>\n",
              "    <tr>\n",
              "      <th>6386</th>\n",
              "      <td>1</td>\n",
              "      <td>2</td>\n",
              "      <td>5</td>\n",
              "      <td>0</td>\n",
              "      <td>0</td>\n",
              "    </tr>\n",
              "    <tr>\n",
              "      <th>8744</th>\n",
              "      <td>0</td>\n",
              "      <td>1</td>\n",
              "      <td>8</td>\n",
              "      <td>1</td>\n",
              "      <td>1</td>\n",
              "    </tr>\n",
              "    <tr>\n",
              "      <th>8357</th>\n",
              "      <td>0</td>\n",
              "      <td>0</td>\n",
              "      <td>5</td>\n",
              "      <td>1</td>\n",
              "      <td>1</td>\n",
              "    </tr>\n",
              "  </tbody>\n",
              "</table>\n",
              "</div>\n",
              "      <button class=\"colab-df-convert\" onclick=\"convertToInteractive('df-f70a811e-b34c-41ec-b9ad-f3604c8f3b8e')\"\n",
              "              title=\"Convert this dataframe to an interactive table.\"\n",
              "              style=\"display:none;\">\n",
              "        \n",
              "  <svg xmlns=\"http://www.w3.org/2000/svg\" height=\"24px\"viewBox=\"0 0 24 24\"\n",
              "       width=\"24px\">\n",
              "    <path d=\"M0 0h24v24H0V0z\" fill=\"none\"/>\n",
              "    <path d=\"M18.56 5.44l.94 2.06.94-2.06 2.06-.94-2.06-.94-.94-2.06-.94 2.06-2.06.94zm-11 1L8.5 8.5l.94-2.06 2.06-.94-2.06-.94L8.5 2.5l-.94 2.06-2.06.94zm10 10l.94 2.06.94-2.06 2.06-.94-2.06-.94-.94-2.06-.94 2.06-2.06.94z\"/><path d=\"M17.41 7.96l-1.37-1.37c-.4-.4-.92-.59-1.43-.59-.52 0-1.04.2-1.43.59L10.3 9.45l-7.72 7.72c-.78.78-.78 2.05 0 2.83L4 21.41c.39.39.9.59 1.41.59.51 0 1.02-.2 1.41-.59l7.78-7.78 2.81-2.81c.8-.78.8-2.07 0-2.86zM5.41 20L4 18.59l7.72-7.72 1.47 1.35L5.41 20z\"/>\n",
              "  </svg>\n",
              "      </button>\n",
              "      \n",
              "  <style>\n",
              "    .colab-df-container {\n",
              "      display:flex;\n",
              "      flex-wrap:wrap;\n",
              "      gap: 12px;\n",
              "    }\n",
              "\n",
              "    .colab-df-convert {\n",
              "      background-color: #E8F0FE;\n",
              "      border: none;\n",
              "      border-radius: 50%;\n",
              "      cursor: pointer;\n",
              "      display: none;\n",
              "      fill: #1967D2;\n",
              "      height: 32px;\n",
              "      padding: 0 0 0 0;\n",
              "      width: 32px;\n",
              "    }\n",
              "\n",
              "    .colab-df-convert:hover {\n",
              "      background-color: #E2EBFA;\n",
              "      box-shadow: 0px 1px 2px rgba(60, 64, 67, 0.3), 0px 1px 3px 1px rgba(60, 64, 67, 0.15);\n",
              "      fill: #174EA6;\n",
              "    }\n",
              "\n",
              "    [theme=dark] .colab-df-convert {\n",
              "      background-color: #3B4455;\n",
              "      fill: #D2E3FC;\n",
              "    }\n",
              "\n",
              "    [theme=dark] .colab-df-convert:hover {\n",
              "      background-color: #434B5C;\n",
              "      box-shadow: 0px 1px 3px 1px rgba(0, 0, 0, 0.15);\n",
              "      filter: drop-shadow(0px 1px 2px rgba(0, 0, 0, 0.3));\n",
              "      fill: #FFFFFF;\n",
              "    }\n",
              "  </style>\n",
              "\n",
              "      <script>\n",
              "        const buttonEl =\n",
              "          document.querySelector('#df-f70a811e-b34c-41ec-b9ad-f3604c8f3b8e button.colab-df-convert');\n",
              "        buttonEl.style.display =\n",
              "          google.colab.kernel.accessAllowed ? 'block' : 'none';\n",
              "\n",
              "        async function convertToInteractive(key) {\n",
              "          const element = document.querySelector('#df-f70a811e-b34c-41ec-b9ad-f3604c8f3b8e');\n",
              "          const dataTable =\n",
              "            await google.colab.kernel.invokeFunction('convertToInteractive',\n",
              "                                                     [key], {});\n",
              "          if (!dataTable) return;\n",
              "\n",
              "          const docLinkHtml = 'Like what you see? Visit the ' +\n",
              "            '<a target=\"_blank\" href=https://colab.research.google.com/notebooks/data_table.ipynb>data table notebook</a>'\n",
              "            + ' to learn more about interactive tables.';\n",
              "          element.innerHTML = '';\n",
              "          dataTable['output_type'] = 'display_data';\n",
              "          await google.colab.output.renderOutput(dataTable, element);\n",
              "          const docLink = document.createElement('div');\n",
              "          docLink.innerHTML = docLinkHtml;\n",
              "          element.appendChild(docLink);\n",
              "        }\n",
              "      </script>\n",
              "    </div>\n",
              "  </div>\n",
              "  "
            ]
          },
          "metadata": {},
          "execution_count": 19
        }
      ]
    },
    {
      "cell_type": "code",
      "source": [
        "cat_data.describe()"
      ],
      "metadata": {
        "colab": {
          "base_uri": "https://localhost:8080/",
          "height": 301
        },
        "id": "nEAX0F3IkA-D",
        "outputId": "925386b8-5905-4427-c406-a2c63743630f"
      },
      "execution_count": 20,
      "outputs": [
        {
          "output_type": "execute_result",
          "data": {
            "text/plain": [
              "       credit.policy       purpose  inq.last.6mths   delinq.2yrs  \\\n",
              "count   16090.000000  16090.000000    16090.000000  16090.000000   \n",
              "mean        0.747296      2.029770        1.869733      0.170230   \n",
              "std         0.434576      1.788958        2.521743      0.536373   \n",
              "min         0.000000      0.000000        0.000000      0.000000   \n",
              "25%         0.000000      1.000000        0.000000      0.000000   \n",
              "50%         1.000000      2.000000        1.000000      0.000000   \n",
              "75%         1.000000      2.000000        3.000000      0.000000   \n",
              "max         1.000000      6.000000       33.000000     13.000000   \n",
              "\n",
              "       not.fully.paid  \n",
              "count    16090.000000  \n",
              "mean         0.500000  \n",
              "std          0.500016  \n",
              "min          0.000000  \n",
              "25%          0.000000  \n",
              "50%          0.500000  \n",
              "75%          1.000000  \n",
              "max          1.000000  "
            ],
            "text/html": [
              "\n",
              "  <div id=\"df-51a76d88-f913-4def-9c01-f068b92573ef\">\n",
              "    <div class=\"colab-df-container\">\n",
              "      <div>\n",
              "<style scoped>\n",
              "    .dataframe tbody tr th:only-of-type {\n",
              "        vertical-align: middle;\n",
              "    }\n",
              "\n",
              "    .dataframe tbody tr th {\n",
              "        vertical-align: top;\n",
              "    }\n",
              "\n",
              "    .dataframe thead th {\n",
              "        text-align: right;\n",
              "    }\n",
              "</style>\n",
              "<table border=\"1\" class=\"dataframe\">\n",
              "  <thead>\n",
              "    <tr style=\"text-align: right;\">\n",
              "      <th></th>\n",
              "      <th>credit.policy</th>\n",
              "      <th>purpose</th>\n",
              "      <th>inq.last.6mths</th>\n",
              "      <th>delinq.2yrs</th>\n",
              "      <th>not.fully.paid</th>\n",
              "    </tr>\n",
              "  </thead>\n",
              "  <tbody>\n",
              "    <tr>\n",
              "      <th>count</th>\n",
              "      <td>16090.000000</td>\n",
              "      <td>16090.000000</td>\n",
              "      <td>16090.000000</td>\n",
              "      <td>16090.000000</td>\n",
              "      <td>16090.000000</td>\n",
              "    </tr>\n",
              "    <tr>\n",
              "      <th>mean</th>\n",
              "      <td>0.747296</td>\n",
              "      <td>2.029770</td>\n",
              "      <td>1.869733</td>\n",
              "      <td>0.170230</td>\n",
              "      <td>0.500000</td>\n",
              "    </tr>\n",
              "    <tr>\n",
              "      <th>std</th>\n",
              "      <td>0.434576</td>\n",
              "      <td>1.788958</td>\n",
              "      <td>2.521743</td>\n",
              "      <td>0.536373</td>\n",
              "      <td>0.500016</td>\n",
              "    </tr>\n",
              "    <tr>\n",
              "      <th>min</th>\n",
              "      <td>0.000000</td>\n",
              "      <td>0.000000</td>\n",
              "      <td>0.000000</td>\n",
              "      <td>0.000000</td>\n",
              "      <td>0.000000</td>\n",
              "    </tr>\n",
              "    <tr>\n",
              "      <th>25%</th>\n",
              "      <td>0.000000</td>\n",
              "      <td>1.000000</td>\n",
              "      <td>0.000000</td>\n",
              "      <td>0.000000</td>\n",
              "      <td>0.000000</td>\n",
              "    </tr>\n",
              "    <tr>\n",
              "      <th>50%</th>\n",
              "      <td>1.000000</td>\n",
              "      <td>2.000000</td>\n",
              "      <td>1.000000</td>\n",
              "      <td>0.000000</td>\n",
              "      <td>0.500000</td>\n",
              "    </tr>\n",
              "    <tr>\n",
              "      <th>75%</th>\n",
              "      <td>1.000000</td>\n",
              "      <td>2.000000</td>\n",
              "      <td>3.000000</td>\n",
              "      <td>0.000000</td>\n",
              "      <td>1.000000</td>\n",
              "    </tr>\n",
              "    <tr>\n",
              "      <th>max</th>\n",
              "      <td>1.000000</td>\n",
              "      <td>6.000000</td>\n",
              "      <td>33.000000</td>\n",
              "      <td>13.000000</td>\n",
              "      <td>1.000000</td>\n",
              "    </tr>\n",
              "  </tbody>\n",
              "</table>\n",
              "</div>\n",
              "      <button class=\"colab-df-convert\" onclick=\"convertToInteractive('df-51a76d88-f913-4def-9c01-f068b92573ef')\"\n",
              "              title=\"Convert this dataframe to an interactive table.\"\n",
              "              style=\"display:none;\">\n",
              "        \n",
              "  <svg xmlns=\"http://www.w3.org/2000/svg\" height=\"24px\"viewBox=\"0 0 24 24\"\n",
              "       width=\"24px\">\n",
              "    <path d=\"M0 0h24v24H0V0z\" fill=\"none\"/>\n",
              "    <path d=\"M18.56 5.44l.94 2.06.94-2.06 2.06-.94-2.06-.94-.94-2.06-.94 2.06-2.06.94zm-11 1L8.5 8.5l.94-2.06 2.06-.94-2.06-.94L8.5 2.5l-.94 2.06-2.06.94zm10 10l.94 2.06.94-2.06 2.06-.94-2.06-.94-.94-2.06-.94 2.06-2.06.94z\"/><path d=\"M17.41 7.96l-1.37-1.37c-.4-.4-.92-.59-1.43-.59-.52 0-1.04.2-1.43.59L10.3 9.45l-7.72 7.72c-.78.78-.78 2.05 0 2.83L4 21.41c.39.39.9.59 1.41.59.51 0 1.02-.2 1.41-.59l7.78-7.78 2.81-2.81c.8-.78.8-2.07 0-2.86zM5.41 20L4 18.59l7.72-7.72 1.47 1.35L5.41 20z\"/>\n",
              "  </svg>\n",
              "      </button>\n",
              "      \n",
              "  <style>\n",
              "    .colab-df-container {\n",
              "      display:flex;\n",
              "      flex-wrap:wrap;\n",
              "      gap: 12px;\n",
              "    }\n",
              "\n",
              "    .colab-df-convert {\n",
              "      background-color: #E8F0FE;\n",
              "      border: none;\n",
              "      border-radius: 50%;\n",
              "      cursor: pointer;\n",
              "      display: none;\n",
              "      fill: #1967D2;\n",
              "      height: 32px;\n",
              "      padding: 0 0 0 0;\n",
              "      width: 32px;\n",
              "    }\n",
              "\n",
              "    .colab-df-convert:hover {\n",
              "      background-color: #E2EBFA;\n",
              "      box-shadow: 0px 1px 2px rgba(60, 64, 67, 0.3), 0px 1px 3px 1px rgba(60, 64, 67, 0.15);\n",
              "      fill: #174EA6;\n",
              "    }\n",
              "\n",
              "    [theme=dark] .colab-df-convert {\n",
              "      background-color: #3B4455;\n",
              "      fill: #D2E3FC;\n",
              "    }\n",
              "\n",
              "    [theme=dark] .colab-df-convert:hover {\n",
              "      background-color: #434B5C;\n",
              "      box-shadow: 0px 1px 3px 1px rgba(0, 0, 0, 0.15);\n",
              "      filter: drop-shadow(0px 1px 2px rgba(0, 0, 0, 0.3));\n",
              "      fill: #FFFFFF;\n",
              "    }\n",
              "  </style>\n",
              "\n",
              "      <script>\n",
              "        const buttonEl =\n",
              "          document.querySelector('#df-51a76d88-f913-4def-9c01-f068b92573ef button.colab-df-convert');\n",
              "        buttonEl.style.display =\n",
              "          google.colab.kernel.accessAllowed ? 'block' : 'none';\n",
              "\n",
              "        async function convertToInteractive(key) {\n",
              "          const element = document.querySelector('#df-51a76d88-f913-4def-9c01-f068b92573ef');\n",
              "          const dataTable =\n",
              "            await google.colab.kernel.invokeFunction('convertToInteractive',\n",
              "                                                     [key], {});\n",
              "          if (!dataTable) return;\n",
              "\n",
              "          const docLinkHtml = 'Like what you see? Visit the ' +\n",
              "            '<a target=\"_blank\" href=https://colab.research.google.com/notebooks/data_table.ipynb>data table notebook</a>'\n",
              "            + ' to learn more about interactive tables.';\n",
              "          element.innerHTML = '';\n",
              "          dataTable['output_type'] = 'display_data';\n",
              "          await google.colab.output.renderOutput(dataTable, element);\n",
              "          const docLink = document.createElement('div');\n",
              "          docLink.innerHTML = docLinkHtml;\n",
              "          element.appendChild(docLink);\n",
              "        }\n",
              "      </script>\n",
              "    </div>\n",
              "  </div>\n",
              "  "
            ]
          },
          "metadata": {},
          "execution_count": 20
        }
      ]
    },
    {
      "cell_type": "code",
      "source": [
        "cat_data.hist(figsize=(30,10),bins=20,color='g')\n",
        "plt.rcParams['font.size'] = '20'\n",
        "plt.show()"
      ],
      "metadata": {
        "colab": {
          "base_uri": "https://localhost:8080/",
          "height": 598
        },
        "id": "a3iPp5DZkJEC",
        "outputId": "0e0e9f4f-4ee6-4bbf-99f9-265832c6a70f"
      },
      "execution_count": 21,
      "outputs": [
        {
          "output_type": "display_data",
          "data": {
            "text/plain": [
              "<Figure size 2160x720 with 6 Axes>"
            ],
            "image/png": "[encoded data removed]"
          },
          "metadata": {
            "needs_background": "light"
          }
        }
      ]
    },
    {
      "cell_type": "code",
      "source": [
        "# It can be seen that most of the categorical data is positively skewed.\n",
        "# Most clients satisfied the credit policy.\n",
        "# Most clients decided to take the loan for purposes of loan consolidation"
      ],
      "metadata": {
        "id": "EjyJIezJlL2z"
      },
      "execution_count": 22,
      "outputs": []
    },
    {
      "cell_type": "code",
      "source": [
        "le = preprocessing.LabelEncoder()\n",
        "df[\"purpose\"] = le.fit_transform(df[\"purpose\"].astype(str))\n",
        "df.head()"
      ],
      "metadata": {
        "colab": {
          "base_uri": "https://localhost:8080/",
          "height": 206
        },
        "id": "BLj29pLvma97",
        "outputId": "922b7969-85c3-4dda-93bf-5ca09bdd27ed"
      },
      "execution_count": 23,
      "outputs": [
        {
          "output_type": "execute_result",
          "data": {
            "text/plain": [
              "      credit.policy  purpose  int.rate  installment  log.annual.inc    dti  \\\n",
              "8008              0        6    0.1280       503.97       11.002100  22.44   \n",
              "7050              1        2    0.1311       398.19       11.238489  20.42   \n",
              "6386              1        2    0.1148       478.05       11.277203   6.88   \n",
              "8744              0        1    0.1064       244.27       10.596635   2.07   \n",
              "8357              0        0    0.1324       169.05       10.239960  19.54   \n",
              "\n",
              "      fico  days.with.cr.line  revol.bal  revol.util  inq.last.6mths  \\\n",
              "8008   687        4859.041667         23         1.3               5   \n",
              "7050   692        4267.041667      12764        44.3               0   \n",
              "6386   752        7592.000000      18003        35.0               5   \n",
              "8744   702       11730.000000        599         3.2               8   \n",
              "8357   667        3960.041667      13542        56.4               5   \n",
              "\n",
              "      delinq.2yrs  pub.rec  not.fully.paid  \n",
              "8008            2        0               1  \n",
              "7050            0        1               0  \n",
              "6386            0        0               0  \n",
              "8744            1        1               1  \n",
              "8357            1        0               1  "
            ],
            "text/html": [
              "\n",
              "  <div id=\"df-aa720eed-abd9-445e-aaec-601d0fd5e7e3\">\n",
              "    <div class=\"colab-df-container\">\n",
              "      <div>\n",
              "<style scoped>\n",
              "    .dataframe tbody tr th:only-of-type {\n",
              "        vertical-align: middle;\n",
              "    }\n",
              "\n",
              "    .dataframe tbody tr th {\n",
              "        vertical-align: top;\n",
              "    }\n",
              "\n",
              "    .dataframe thead th {\n",
              "        text-align: right;\n",
              "    }\n",
              "</style>\n",
              "<table border=\"1\" class=\"dataframe\">\n",
              "  <thead>\n",
              "    <tr style=\"text-align: right;\">\n",
              "      <th></th>\n",
              "      <th>credit.policy</th>\n",
              "      <th>purpose</th>\n",
              "      <th>int.rate</th>\n",
              "      <th>installment</th>\n",
              "      <th>log.annual.inc</th>\n",
              "      <th>dti</th>\n",
              "      <th>fico</th>\n",
              "      <th>days.with.cr.line</th>\n",
              "      <th>revol.bal</th>\n",
              "      <th>revol.util</th>\n",
              "      <th>inq.last.6mths</th>\n",
              "      <th>delinq.2yrs</th>\n",
              "      <th>pub.rec</th>\n",
              "      <th>not.fully.paid</th>\n",
              "    </tr>\n",
              "  </thead>\n",
              "  <tbody>\n",
              "    <tr>\n",
              "      <th>8008</th>\n",
              "      <td>0</td>\n",
              "      <td>6</td>\n",
              "      <td>0.1280</td>\n",
              "      <td>503.97</td>\n",
              "      <td>11.002100</td>\n",
              "      <td>22.44</td>\n",
              "      <td>687</td>\n",
              "      <td>4859.041667</td>\n",
              "      <td>23</td>\n",
              "      <td>1.3</td>\n",
              "      <td>5</td>\n",
              "      <td>2</td>\n",
              "      <td>0</td>\n",
              "      <td>1</td>\n",
              "    </tr>\n",
              "    <tr>\n",
              "      <th>7050</th>\n",
              "      <td>1</td>\n",
              "      <td>2</td>\n",
              "      <td>0.1311</td>\n",
              "      <td>398.19</td>\n",
              "      <td>11.238489</td>\n",
              "      <td>20.42</td>\n",
              "      <td>692</td>\n",
              "      <td>4267.041667</td>\n",
              "      <td>12764</td>\n",
              "      <td>44.3</td>\n",
              "      <td>0</td>\n",
              "      <td>0</td>\n",
              "      <td>1</td>\n",
              "      <td>0</td>\n",
              "    </tr>\n",
              "    <tr>\n",
              "      <th>6386</th>\n",
              "      <td>1</td>\n",
              "      <td>2</td>\n",
              "      <td>0.1148</td>\n",
              "      <td>478.05</td>\n",
              "      <td>11.277203</td>\n",
              "      <td>6.88</td>\n",
              "      <td>752</td>\n",
              "      <td>7592.000000</td>\n",
              "      <td>18003</td>\n",
              "      <td>35.0</td>\n",
              "      <td>5</td>\n",
              "      <td>0</td>\n",
              "      <td>0</td>\n",
              "      <td>0</td>\n",
              "    </tr>\n",
              "    <tr>\n",
              "      <th>8744</th>\n",
              "      <td>0</td>\n",
              "      <td>1</td>\n",
              "      <td>0.1064</td>\n",
              "      <td>244.27</td>\n",
              "      <td>10.596635</td>\n",
              "      <td>2.07</td>\n",
              "      <td>702</td>\n",
              "      <td>11730.000000</td>\n",
              "      <td>599</td>\n",
              "      <td>3.2</td>\n",
              "      <td>8</td>\n",
              "      <td>1</td>\n",
              "      <td>1</td>\n",
              "      <td>1</td>\n",
              "    </tr>\n",
              "    <tr>\n",
              "      <th>8357</th>\n",
              "      <td>0</td>\n",
              "      <td>0</td>\n",
              "      <td>0.1324</td>\n",
              "      <td>169.05</td>\n",
              "      <td>10.239960</td>\n",
              "      <td>19.54</td>\n",
              "      <td>667</td>\n",
              "      <td>3960.041667</td>\n",
              "      <td>13542</td>\n",
              "      <td>56.4</td>\n",
              "      <td>5</td>\n",
              "      <td>1</td>\n",
              "      <td>0</td>\n",
              "      <td>1</td>\n",
              "    </tr>\n",
              "  </tbody>\n",
              "</table>\n",
              "</div>\n",
              "      <button class=\"colab-df-convert\" onclick=\"convertToInteractive('df-aa720eed-abd9-445e-aaec-601d0fd5e7e3')\"\n",
              "              title=\"Convert this dataframe to an interactive table.\"\n",
              "              style=\"display:none;\">\n",
              "        \n",
              "  <svg xmlns=\"http://www.w3.org/2000/svg\" height=\"24px\"viewBox=\"0 0 24 24\"\n",
              "       width=\"24px\">\n",
              "    <path d=\"M0 0h24v24H0V0z\" fill=\"none\"/>\n",
              "    <path d=\"M18.56 5.44l.94 2.06.94-2.06 2.06-.94-2.06-.94-.94-2.06-.94 2.06-2.06.94zm-11 1L8.5 8.5l.94-2.06 2.06-.94-2.06-.94L8.5 2.5l-.94 2.06-2.06.94zm10 10l.94 2.06.94-2.06 2.06-.94-2.06-.94-.94-2.06-.94 2.06-2.06.94z\"/><path d=\"M17.41 7.96l-1.37-1.37c-.4-.4-.92-.59-1.43-.59-.52 0-1.04.2-1.43.59L10.3 9.45l-7.72 7.72c-.78.78-.78 2.05 0 2.83L4 21.41c.39.39.9.59 1.41.59.51 0 1.02-.2 1.41-.59l7.78-7.78 2.81-2.81c.8-.78.8-2.07 0-2.86zM5.41 20L4 18.59l7.72-7.72 1.47 1.35L5.41 20z\"/>\n",
              "  </svg>\n",
              "      </button>\n",
              "      \n",
              "  <style>\n",
              "    .colab-df-container {\n",
              "      display:flex;\n",
              "      flex-wrap:wrap;\n",
              "      gap: 12px;\n",
              "    }\n",
              "\n",
              "    .colab-df-convert {\n",
              "      background-color: #E8F0FE;\n",
              "      border: none;\n",
              "      border-radius: 50%;\n",
              "      cursor: pointer;\n",
              "      display: none;\n",
              "      fill: #1967D2;\n",
              "      height: 32px;\n",
              "      padding: 0 0 0 0;\n",
              "      width: 32px;\n",
              "    }\n",
              "\n",
              "    .colab-df-convert:hover {\n",
              "      background-color: #E2EBFA;\n",
              "      box-shadow: 0px 1px 2px rgba(60, 64, 67, 0.3), 0px 1px 3px 1px rgba(60, 64, 67, 0.15);\n",
              "      fill: #174EA6;\n",
              "    }\n",
              "\n",
              "    [theme=dark] .colab-df-convert {\n",
              "      background-color: #3B4455;\n",
              "      fill: #D2E3FC;\n",
              "    }\n",
              "\n",
              "    [theme=dark] .colab-df-convert:hover {\n",
              "      background-color: #434B5C;\n",
              "      box-shadow: 0px 1px 3px 1px rgba(0, 0, 0, 0.15);\n",
              "      filter: drop-shadow(0px 1px 2px rgba(0, 0, 0, 0.3));\n",
              "      fill: #FFFFFF;\n",
              "    }\n",
              "  </style>\n",
              "\n",
              "      <script>\n",
              "        const buttonEl =\n",
              "          document.querySelector('#df-aa720eed-abd9-445e-aaec-601d0fd5e7e3 button.colab-df-convert');\n",
              "        buttonEl.style.display =\n",
              "          google.colab.kernel.accessAllowed ? 'block' : 'none';\n",
              "\n",
              "        async function convertToInteractive(key) {\n",
              "          const element = document.querySelector('#df-aa720eed-abd9-445e-aaec-601d0fd5e7e3');\n",
              "          const dataTable =\n",
              "            await google.colab.kernel.invokeFunction('convertToInteractive',\n",
              "                                                     [key], {});\n",
              "          if (!dataTable) return;\n",
              "\n",
              "          const docLinkHtml = 'Like what you see? Visit the ' +\n",
              "            '<a target=\"_blank\" href=https://colab.research.google.com/notebooks/data_table.ipynb>data table notebook</a>'\n",
              "            + ' to learn more about interactive tables.';\n",
              "          element.innerHTML = '';\n",
              "          dataTable['output_type'] = 'display_data';\n",
              "          await google.colab.output.renderOutput(dataTable, element);\n",
              "          const docLink = document.createElement('div');\n",
              "          docLink.innerHTML = docLinkHtml;\n",
              "          element.appendChild(docLink);\n",
              "        }\n",
              "      </script>\n",
              "    </div>\n",
              "  </div>\n",
              "  "
            ]
          },
          "metadata": {},
          "execution_count": 23
        }
      ]
    },
    {
      "cell_type": "code",
      "source": [
        "df.isnull().sum()"
      ],
      "metadata": {
        "colab": {
          "base_uri": "https://localhost:8080/"
        },
        "id": "7eGi1e8InOHu",
        "outputId": "d9cea194-1ee9-4fd6-cf49-4a409f8cecb3"
      },
      "execution_count": 24,
      "outputs": [
        {
          "output_type": "execute_result",
          "data": {
            "text/plain": [
              "credit.policy        0\n",
              "purpose              0\n",
              "int.rate             0\n",
              "installment          0\n",
              "log.annual.inc       0\n",
              "dti                  0\n",
              "fico                 0\n",
              "days.with.cr.line    0\n",
              "revol.bal            0\n",
              "revol.util           0\n",
              "inq.last.6mths       0\n",
              "delinq.2yrs          0\n",
              "pub.rec              0\n",
              "not.fully.paid       0\n",
              "dtype: int64"
            ]
          },
          "metadata": {},
          "execution_count": 24
        }
      ]
    },
    {
      "cell_type": "code",
      "source": [
        "num_data.describe()"
      ],
      "metadata": {
        "colab": {
          "base_uri": "https://localhost:8080/",
          "height": 301
        },
        "id": "EbOh-6bEywZi",
        "outputId": "fae692c5-c891-4336-8cd8-a5f234400dc9"
      },
      "execution_count": 25,
      "outputs": [
        {
          "output_type": "execute_result",
          "data": {
            "text/plain": [
              "           int.rate   installment  log.annual.inc           dti          fico  \\\n",
              "count  16090.000000  16090.000000    16090.000000  16090.000000  16090.000000   \n",
              "mean       0.126717    331.233010       10.918552     12.779421    705.695152   \n",
              "std        0.026932    216.046425        0.639732      6.968271     36.941948   \n",
              "min        0.060000     15.670000        7.547502      0.000000    612.000000   \n",
              "25%        0.110300    167.120000       10.524064      7.280000    677.000000   \n",
              "50%        0.126100    277.450000       10.915088     12.890000    702.000000   \n",
              "75%        0.143800    469.780000       11.289832     18.240000    732.000000   \n",
              "max        0.216400    940.140000       14.528354     29.960000    827.000000   \n",
              "\n",
              "       days.with.cr.line     revol.bal    revol.util  not.fully.paid  \n",
              "count       16090.000000  1.609000e+04  16090.000000    16090.000000  \n",
              "mean         4494.871600  1.921108e+04     48.959622        0.500000  \n",
              "std          2474.362329  4.398412e+04     29.142480        0.500016  \n",
              "min           178.958333  0.000000e+00      0.000000        0.000000  \n",
              "25%          2790.000000  3.163250e+03     24.900000        0.000000  \n",
              "50%          4110.000000  8.764000e+03     49.800000        0.500000  \n",
              "75%          5670.041667  1.914400e+04     73.500000        1.000000  \n",
              "max         17639.958330  1.207359e+06    119.000000        1.000000  "
            ],
            "text/html": [
              "\n",
              "  <div id=\"df-daa960ee-f19f-4532-a300-123d2f874124\">\n",
              "    <div class=\"colab-df-container\">\n",
              "      <div>\n",
              "<style scoped>\n",
              "    .dataframe tbody tr th:only-of-type {\n",
              "        vertical-align: middle;\n",
              "    }\n",
              "\n",
              "    .dataframe tbody tr th {\n",
              "        vertical-align: top;\n",
              "    }\n",
              "\n",
              "    .dataframe thead th {\n",
              "        text-align: right;\n",
              "    }\n",
              "</style>\n",
              "<table border=\"1\" class=\"dataframe\">\n",
              "  <thead>\n",
              "    <tr style=\"text-align: right;\">\n",
              "      <th></th>\n",
              "      <th>int.rate</th>\n",
              "      <th>installment</th>\n",
              "      <th>log.annual.inc</th>\n",
              "      <th>dti</th>\n",
              "      <th>fico</th>\n",
              "      <th>days.with.cr.line</th>\n",
              "      <th>revol.bal</th>\n",
              "      <th>revol.util</th>\n",
              "      <th>not.fully.paid</th>\n",
              "    </tr>\n",
              "  </thead>\n",
              "  <tbody>\n",
              "    <tr>\n",
              "      <th>count</th>\n",
              "      <td>16090.000000</td>\n",
              "      <td>16090.000000</td>\n",
              "      <td>16090.000000</td>\n",
              "      <td>16090.000000</td>\n",
              "      <td>16090.000000</td>\n",
              "      <td>16090.000000</td>\n",
              "      <td>1.609000e+04</td>\n",
              "      <td>16090.000000</td>\n",
              "      <td>16090.000000</td>\n",
              "    </tr>\n",
              "    <tr>\n",
              "      <th>mean</th>\n",
              "      <td>0.126717</td>\n",
              "      <td>331.233010</td>\n",
              "      <td>10.918552</td>\n",
              "      <td>12.779421</td>\n",
              "      <td>705.695152</td>\n",
              "      <td>4494.871600</td>\n",
              "      <td>1.921108e+04</td>\n",
              "      <td>48.959622</td>\n",
              "      <td>0.500000</td>\n",
              "    </tr>\n",
              "    <tr>\n",
              "      <th>std</th>\n",
              "      <td>0.026932</td>\n",
              "      <td>216.046425</td>\n",
              "      <td>0.639732</td>\n",
              "      <td>6.968271</td>\n",
              "      <td>36.941948</td>\n",
              "      <td>2474.362329</td>\n",
              "      <td>4.398412e+04</td>\n",
              "      <td>29.142480</td>\n",
              "      <td>0.500016</td>\n",
              "    </tr>\n",
              "    <tr>\n",
              "      <th>min</th>\n",
              "      <td>0.060000</td>\n",
              "      <td>15.670000</td>\n",
              "      <td>7.547502</td>\n",
              "      <td>0.000000</td>\n",
              "      <td>612.000000</td>\n",
              "      <td>178.958333</td>\n",
              "      <td>0.000000e+00</td>\n",
              "      <td>0.000000</td>\n",
              "      <td>0.000000</td>\n",
              "    </tr>\n",
              "    <tr>\n",
              "      <th>25%</th>\n",
              "      <td>0.110300</td>\n",
              "      <td>167.120000</td>\n",
              "      <td>10.524064</td>\n",
              "      <td>7.280000</td>\n",
              "      <td>677.000000</td>\n",
              "      <td>2790.000000</td>\n",
              "      <td>3.163250e+03</td>\n",
              "      <td>24.900000</td>\n",
              "      <td>0.000000</td>\n",
              "    </tr>\n",
              "    <tr>\n",
              "      <th>50%</th>\n",
              "      <td>0.126100</td>\n",
              "      <td>277.450000</td>\n",
              "      <td>10.915088</td>\n",
              "      <td>12.890000</td>\n",
              "      <td>702.000000</td>\n",
              "      <td>4110.000000</td>\n",
              "      <td>8.764000e+03</td>\n",
              "      <td>49.800000</td>\n",
              "      <td>0.500000</td>\n",
              "    </tr>\n",
              "    <tr>\n",
              "      <th>75%</th>\n",
              "      <td>0.143800</td>\n",
              "      <td>469.780000</td>\n",
              "      <td>11.289832</td>\n",
              "      <td>18.240000</td>\n",
              "      <td>732.000000</td>\n",
              "      <td>5670.041667</td>\n",
              "      <td>1.914400e+04</td>\n",
              "      <td>73.500000</td>\n",
              "      <td>1.000000</td>\n",
              "    </tr>\n",
              "    <tr>\n",
              "      <th>max</th>\n",
              "      <td>0.216400</td>\n",
              "      <td>940.140000</td>\n",
              "      <td>14.528354</td>\n",
              "      <td>29.960000</td>\n",
              "      <td>827.000000</td>\n",
              "      <td>17639.958330</td>\n",
              "      <td>1.207359e+06</td>\n",
              "      <td>119.000000</td>\n",
              "      <td>1.000000</td>\n",
              "    </tr>\n",
              "  </tbody>\n",
              "</table>\n",
              "</div>\n",
              "      <button class=\"colab-df-convert\" onclick=\"convertToInteractive('df-daa960ee-f19f-4532-a300-123d2f874124')\"\n",
              "              title=\"Convert this dataframe to an interactive table.\"\n",
              "              style=\"display:none;\">\n",
              "        \n",
              "  <svg xmlns=\"http://www.w3.org/2000/svg\" height=\"24px\"viewBox=\"0 0 24 24\"\n",
              "       width=\"24px\">\n",
              "    <path d=\"M0 0h24v24H0V0z\" fill=\"none\"/>\n",
              "    <path d=\"M18.56 5.44l.94 2.06.94-2.06 2.06-.94-2.06-.94-.94-2.06-.94 2.06-2.06.94zm-11 1L8.5 8.5l.94-2.06 2.06-.94-2.06-.94L8.5 2.5l-.94 2.06-2.06.94zm10 10l.94 2.06.94-2.06 2.06-.94-2.06-.94-.94-2.06-.94 2.06-2.06.94z\"/><path d=\"M17.41 7.96l-1.37-1.37c-.4-.4-.92-.59-1.43-.59-.52 0-1.04.2-1.43.59L10.3 9.45l-7.72 7.72c-.78.78-.78 2.05 0 2.83L4 21.41c.39.39.9.59 1.41.59.51 0 1.02-.2 1.41-.59l7.78-7.78 2.81-2.81c.8-.78.8-2.07 0-2.86zM5.41 20L4 18.59l7.72-7.72 1.47 1.35L5.41 20z\"/>\n",
              "  </svg>\n",
              "      </button>\n",
              "      \n",
              "  <style>\n",
              "    .colab-df-container {\n",
              "      display:flex;\n",
              "      flex-wrap:wrap;\n",
              "      gap: 12px;\n",
              "    }\n",
              "\n",
              "    .colab-df-convert {\n",
              "      background-color: #E8F0FE;\n",
              "      border: none;\n",
              "      border-radius: 50%;\n",
              "      cursor: pointer;\n",
              "      display: none;\n",
              "      fill: #1967D2;\n",
              "      height: 32px;\n",
              "      padding: 0 0 0 0;\n",
              "      width: 32px;\n",
              "    }\n",
              "\n",
              "    .colab-df-convert:hover {\n",
              "      background-color: #E2EBFA;\n",
              "      box-shadow: 0px 1px 2px rgba(60, 64, 67, 0.3), 0px 1px 3px 1px rgba(60, 64, 67, 0.15);\n",
              "      fill: #174EA6;\n",
              "    }\n",
              "\n",
              "    [theme=dark] .colab-df-convert {\n",
              "      background-color: #3B4455;\n",
              "      fill: #D2E3FC;\n",
              "    }\n",
              "\n",
              "    [theme=dark] .colab-df-convert:hover {\n",
              "      background-color: #434B5C;\n",
              "      box-shadow: 0px 1px 3px 1px rgba(0, 0, 0, 0.15);\n",
              "      filter: drop-shadow(0px 1px 2px rgba(0, 0, 0, 0.3));\n",
              "      fill: #FFFFFF;\n",
              "    }\n",
              "  </style>\n",
              "\n",
              "      <script>\n",
              "        const buttonEl =\n",
              "          document.querySelector('#df-daa960ee-f19f-4532-a300-123d2f874124 button.colab-df-convert');\n",
              "        buttonEl.style.display =\n",
              "          google.colab.kernel.accessAllowed ? 'block' : 'none';\n",
              "\n",
              "        async function convertToInteractive(key) {\n",
              "          const element = document.querySelector('#df-daa960ee-f19f-4532-a300-123d2f874124');\n",
              "          const dataTable =\n",
              "            await google.colab.kernel.invokeFunction('convertToInteractive',\n",
              "                                                     [key], {});\n",
              "          if (!dataTable) return;\n",
              "\n",
              "          const docLinkHtml = 'Like what you see? Visit the ' +\n",
              "            '<a target=\"_blank\" href=https://colab.research.google.com/notebooks/data_table.ipynb>data table notebook</a>'\n",
              "            + ' to learn more about interactive tables.';\n",
              "          element.innerHTML = '';\n",
              "          dataTable['output_type'] = 'display_data';\n",
              "          await google.colab.output.renderOutput(dataTable, element);\n",
              "          const docLink = document.createElement('div');\n",
              "          docLink.innerHTML = docLinkHtml;\n",
              "          element.appendChild(docLink);\n",
              "        }\n",
              "      </script>\n",
              "    </div>\n",
              "  </div>\n",
              "  "
            ]
          },
          "metadata": {},
          "execution_count": 25
        }
      ]
    },
    {
      "cell_type": "code",
      "source": [
        "# Upper bounded outliers\n",
        "for var in ['int.rate' ,'installment','fico', 'days.with.cr.line', 'revol.bal', 'not.fully.paid']:\n",
        "  df[var].clip(upper = df[var].quantile(0.95),inplace=True)\n",
        "\n",
        "# Lower and Upper bounded outliers\n",
        "for var in ['log.annual.inc']:\n",
        "  df[var] = df[var].clip(upper = df[var].quantile(0.95),lower = df[var].quantile(0.05))"
      ],
      "metadata": {
        "id": "8327E7em1qBZ"
      },
      "execution_count": 26,
      "outputs": []
    },
    {
      "cell_type": "code",
      "source": [
        "fig,ax = plt.subplots(3,3,figsize=(15,15))\n",
        "plt.subplots_adjust(hspace=0.5)\n",
        "\n",
        "for i,j in enumerate(df[num_data.columns]):\n",
        "  ax = plt.subplot(3,3,i+1)\n",
        "  sns.boxplot(y=df[j])\n",
        "  ax.set_title(f'boxplot for {j}')\n",
        "plt.show()"
      ],
      "metadata": {
        "colab": {
          "base_uri": "https://localhost:8080/",
          "height": 875
        },
        "id": "0BIcZWHy24uW",
        "outputId": "a37a6fb2-809e-4836-a370-e304e28e0b95"
      },
      "execution_count": 27,
      "outputs": [
        {
          "output_type": "display_data",
          "data": {
            "text/plain": [
              "<Figure size 1080x1080 with 9 Axes>"
            ],
            "image/png": "[encoded data removed]"
          },
          "metadata": {
            "needs_background": "light"
          }
        }
      ]
    },
    {
      "cell_type": "code",
      "source": [
        "# Check for skewness in the numerical features\n",
        "vars_skewed = df[num_data.columns].apply(lambda x: skew(x)).sort_values(ascending=False)\n",
        "vars_skewed"
      ],
      "metadata": {
        "colab": {
          "base_uri": "https://localhost:8080/"
        },
        "id": "osBml-CO35Jm",
        "outputId": "783e7bfa-80d2-4c3c-985e-8510eddb4a46"
      },
      "execution_count": 28,
      "outputs": [
        {
          "output_type": "execute_result",
          "data": {
            "text/plain": [
              "revol.bal            1.709400\n",
              "installment          0.781616\n",
              "days.with.cr.line    0.470738\n",
              "fico                 0.362407\n",
              "dti                  0.017470\n",
              "log.annual.inc       0.006915\n",
              "not.fully.paid       0.000000\n",
              "revol.util          -0.034960\n",
              "int.rate            -0.098591\n",
              "dtype: float64"
            ]
          },
          "metadata": {},
          "execution_count": 28
        }
      ]
    },
    {
      "cell_type": "code",
      "source": [
        "vars_skewed = vars_skewed[vars_skewed>0.3]\n",
        "vars_skewed"
      ],
      "metadata": {
        "colab": {
          "base_uri": "https://localhost:8080/"
        },
        "id": "LU_MlGW55mLI",
        "outputId": "6677909b-4045-4098-b912-5899e65e24c0"
      },
      "execution_count": 29,
      "outputs": [
        {
          "output_type": "execute_result",
          "data": {
            "text/plain": [
              "revol.bal            1.709400\n",
              "installment          0.781616\n",
              "days.with.cr.line    0.470738\n",
              "fico                 0.362407\n",
              "dtype: float64"
            ]
          },
          "metadata": {},
          "execution_count": 29
        }
      ]
    },
    {
      "cell_type": "code",
      "source": [],
      "metadata": {
        "id": "2b7POgAfHAfs"
      },
      "execution_count": 29,
      "outputs": []
    },
    {
      "cell_type": "code",
      "source": [
        "for i in  vars_skewed.index:\n",
        "  df[i] = np.log1p(df[i])"
      ],
      "metadata": {
        "id": "Q2tY__hA924I"
      },
      "execution_count": 30,
      "outputs": []
    },
    {
      "cell_type": "code",
      "source": [
        "vars_skewed= df[num_data.columns].apply(lambda x: skew(x)).sort_values(ascending=False)\n",
        "vars_skewed"
      ],
      "metadata": {
        "colab": {
          "base_uri": "https://localhost:8080/"
        },
        "id": "6S3fs2YB-EOD",
        "outputId": "030d4843-18b1-4a0f-a4c2-b818b24dcc76"
      },
      "execution_count": 31,
      "outputs": [
        {
          "output_type": "execute_result",
          "data": {
            "text/plain": [
              "fico                 0.273172\n",
              "dti                  0.017470\n",
              "log.annual.inc       0.006915\n",
              "not.fully.paid       0.000000\n",
              "revol.util          -0.034960\n",
              "int.rate            -0.098591\n",
              "installment         -0.586084\n",
              "days.with.cr.line   -1.146639\n",
              "revol.bal           -2.284327\n",
              "dtype: float64"
            ]
          },
          "metadata": {},
          "execution_count": 31
        }
      ]
    },
    {
      "cell_type": "code",
      "source": [
        "# for i in cat_data.columns:\n",
        "#   print(df[i].value_counts(),'\\n')"
      ],
      "metadata": {
        "id": "-8tSJuUk-XHc"
      },
      "execution_count": 32,
      "outputs": []
    },
    {
      "cell_type": "code",
      "source": [
        "x_num = df[num_data.columns.drop('not.fully.paid')]\n",
        "x_num"
      ],
      "metadata": {
        "colab": {
          "base_uri": "https://localhost:8080/",
          "height": 424
        },
        "id": "1UhLaBEt-lee",
        "outputId": "03b8f424-7688-4bef-ed1a-cba0b5a861fc"
      },
      "execution_count": 33,
      "outputs": [
        {
          "output_type": "execute_result",
          "data": {
            "text/plain": [
              "      int.rate  installment  log.annual.inc    dti      fico  \\\n",
              "8008    0.1280     6.224499       11.002100  22.44  6.533789   \n",
              "7050    0.1311     5.989437       11.238489  20.42  6.541030   \n",
              "6386    0.1148     6.171805       11.277203   6.88  6.624065   \n",
              "8744    0.1064     5.502360       10.596635   2.07  6.555357   \n",
              "8357    0.1324     5.136093       10.239960  19.54  6.504288   \n",
              "...        ...          ...             ...    ...       ...   \n",
              "1388    0.1209     6.396329       11.112448  19.22  6.555357   \n",
              "5621    0.1287     5.376481       11.167261  11.09  6.533789   \n",
              "2714    0.1347     6.011463       10.149097   9.20  6.583409   \n",
              "3009    0.1347     5.607235       10.550931  12.59  6.533789   \n",
              "8697    0.1576     4.173618        9.903688  25.07  6.504288   \n",
              "\n",
              "      days.with.cr.line  revol.bal  revol.util  \n",
              "8008           8.488802   3.178054         1.3  \n",
              "7050           8.358910   9.454462        44.3  \n",
              "6386           8.934982   9.798349        35.0  \n",
              "8744           9.118333   6.396930         3.2  \n",
              "8357           8.284262   9.513625        56.4  \n",
              "...                 ...        ...         ...  \n",
              "1388           8.560444  10.038805        64.5  \n",
              "5621           8.804025   9.414750        40.0  \n",
              "2714           9.118333   9.339437        94.8  \n",
              "3009           8.137968   8.620832        60.9  \n",
              "8697           7.186113   8.596374        35.6  \n",
              "\n",
              "[16090 rows x 8 columns]"
            ],
            "text/html": [
              "\n",
              "  <div id=\"df-cca1053d-6cff-48a0-91ad-6d51ae7dbef5\">\n",
              "    <div class=\"colab-df-container\">\n",
              "      <div>\n",
              "<style scoped>\n",
              "    .dataframe tbody tr th:only-of-type {\n",
              "        vertical-align: middle;\n",
              "    }\n",
              "\n",
              "    .dataframe tbody tr th {\n",
              "        vertical-align: top;\n",
              "    }\n",
              "\n",
              "    .dataframe thead th {\n",
              "        text-align: right;\n",
              "    }\n",
              "</style>\n",
              "<table border=\"1\" class=\"dataframe\">\n",
              "  <thead>\n",
              "    <tr style=\"text-align: right;\">\n",
              "      <th></th>\n",
              "      <th>int.rate</th>\n",
              "      <th>installment</th>\n",
              "      <th>log.annual.inc</th>\n",
              "      <th>dti</th>\n",
              "      <th>fico</th>\n",
              "      <th>days.with.cr.line</th>\n",
              "      <th>revol.bal</th>\n",
              "      <th>revol.util</th>\n",
              "    </tr>\n",
              "  </thead>\n",
              "  <tbody>\n",
              "    <tr>\n",
              "      <th>8008</th>\n",
              "      <td>0.1280</td>\n",
              "      <td>6.224499</td>\n",
              "      <td>11.002100</td>\n",
              "      <td>22.44</td>\n",
              "      <td>6.533789</td>\n",
              "      <td>8.488802</td>\n",
              "      <td>3.178054</td>\n",
              "      <td>1.3</td>\n",
              "    </tr>\n",
              "    <tr>\n",
              "      <th>7050</th>\n",
              "      <td>0.1311</td>\n",
              "      <td>5.989437</td>\n",
              "      <td>11.238489</td>\n",
              "      <td>20.42</td>\n",
              "      <td>6.541030</td>\n",
              "      <td>8.358910</td>\n",
              "      <td>9.454462</td>\n",
              "      <td>44.3</td>\n",
              "    </tr>\n",
              "    <tr>\n",
              "      <th>6386</th>\n",
              "      <td>0.1148</td>\n",
              "      <td>6.171805</td>\n",
              "      <td>11.277203</td>\n",
              "      <td>6.88</td>\n",
              "      <td>6.624065</td>\n",
              "      <td>8.934982</td>\n",
              "      <td>9.798349</td>\n",
              "      <td>35.0</td>\n",
              "    </tr>\n",
              "    <tr>\n",
              "      <th>8744</th>\n",
              "      <td>0.1064</td>\n",
              "      <td>5.502360</td>\n",
              "      <td>10.596635</td>\n",
              "      <td>2.07</td>\n",
              "      <td>6.555357</td>\n",
              "      <td>9.118333</td>\n",
              "      <td>6.396930</td>\n",
              "      <td>3.2</td>\n",
              "    </tr>\n",
              "    <tr>\n",
              "      <th>8357</th>\n",
              "      <td>0.1324</td>\n",
              "      <td>5.136093</td>\n",
              "      <td>10.239960</td>\n",
              "      <td>19.54</td>\n",
              "      <td>6.504288</td>\n",
              "      <td>8.284262</td>\n",
              "      <td>9.513625</td>\n",
              "      <td>56.4</td>\n",
              "    </tr>\n",
              "    <tr>\n",
              "      <th>...</th>\n",
              "      <td>...</td>\n",
              "      <td>...</td>\n",
              "      <td>...</td>\n",
              "      <td>...</td>\n",
              "      <td>...</td>\n",
              "      <td>...</td>\n",
              "      <td>...</td>\n",
              "      <td>...</td>\n",
              "    </tr>\n",
              "    <tr>\n",
              "      <th>1388</th>\n",
              "      <td>0.1209</td>\n",
              "      <td>6.396329</td>\n",
              "      <td>11.112448</td>\n",
              "      <td>19.22</td>\n",
              "      <td>6.555357</td>\n",
              "      <td>8.560444</td>\n",
              "      <td>10.038805</td>\n",
              "      <td>64.5</td>\n",
              "    </tr>\n",
              "    <tr>\n",
              "      <th>5621</th>\n",
              "      <td>0.1287</td>\n",
              "      <td>5.376481</td>\n",
              "      <td>11.167261</td>\n",
              "      <td>11.09</td>\n",
              "      <td>6.533789</td>\n",
              "      <td>8.804025</td>\n",
              "      <td>9.414750</td>\n",
              "      <td>40.0</td>\n",
              "    </tr>\n",
              "    <tr>\n",
              "      <th>2714</th>\n",
              "      <td>0.1347</td>\n",
              "      <td>6.011463</td>\n",
              "      <td>10.149097</td>\n",
              "      <td>9.20</td>\n",
              "      <td>6.583409</td>\n",
              "      <td>9.118333</td>\n",
              "      <td>9.339437</td>\n",
              "      <td>94.8</td>\n",
              "    </tr>\n",
              "    <tr>\n",
              "      <th>3009</th>\n",
              "      <td>0.1347</td>\n",
              "      <td>5.607235</td>\n",
              "      <td>10.550931</td>\n",
              "      <td>12.59</td>\n",
              "      <td>6.533789</td>\n",
              "      <td>8.137968</td>\n",
              "      <td>8.620832</td>\n",
              "      <td>60.9</td>\n",
              "    </tr>\n",
              "    <tr>\n",
              "      <th>8697</th>\n",
              "      <td>0.1576</td>\n",
              "      <td>4.173618</td>\n",
              "      <td>9.903688</td>\n",
              "      <td>25.07</td>\n",
              "      <td>6.504288</td>\n",
              "      <td>7.186113</td>\n",
              "      <td>8.596374</td>\n",
              "      <td>35.6</td>\n",
              "    </tr>\n",
              "  </tbody>\n",
              "</table>\n",
              "<p>16090 rows × 8 columns</p>\n",
              "</div>\n",
              "      <button class=\"colab-df-convert\" onclick=\"convertToInteractive('df-cca1053d-6cff-48a0-91ad-6d51ae7dbef5')\"\n",
              "              title=\"Convert this dataframe to an interactive table.\"\n",
              "              style=\"display:none;\">\n",
              "        \n",
              "  <svg xmlns=\"http://www.w3.org/2000/svg\" height=\"24px\"viewBox=\"0 0 24 24\"\n",
              "       width=\"24px\">\n",
              "    <path d=\"M0 0h24v24H0V0z\" fill=\"none\"/>\n",
              "    <path d=\"M18.56 5.44l.94 2.06.94-2.06 2.06-.94-2.06-.94-.94-2.06-.94 2.06-2.06.94zm-11 1L8.5 8.5l.94-2.06 2.06-.94-2.06-.94L8.5 2.5l-.94 2.06-2.06.94zm10 10l.94 2.06.94-2.06 2.06-.94-2.06-.94-.94-2.06-.94 2.06-2.06.94z\"/><path d=\"M17.41 7.96l-1.37-1.37c-.4-.4-.92-.59-1.43-.59-.52 0-1.04.2-1.43.59L10.3 9.45l-7.72 7.72c-.78.78-.78 2.05 0 2.83L4 21.41c.39.39.9.59 1.41.59.51 0 1.02-.2 1.41-.59l7.78-7.78 2.81-2.81c.8-.78.8-2.07 0-2.86zM5.41 20L4 18.59l7.72-7.72 1.47 1.35L5.41 20z\"/>\n",
              "  </svg>\n",
              "      </button>\n",
              "      \n",
              "  <style>\n",
              "    .colab-df-container {\n",
              "      display:flex;\n",
              "      flex-wrap:wrap;\n",
              "      gap: 12px;\n",
              "    }\n",
              "\n",
              "    .colab-df-convert {\n",
              "      background-color: #E8F0FE;\n",
              "      border: none;\n",
              "      border-radius: 50%;\n",
              "      cursor: pointer;\n",
              "      display: none;\n",
              "      fill: #1967D2;\n",
              "      height: 32px;\n",
              "      padding: 0 0 0 0;\n",
              "      width: 32px;\n",
              "    }\n",
              "\n",
              "    .colab-df-convert:hover {\n",
              "      background-color: #E2EBFA;\n",
              "      box-shadow: 0px 1px 2px rgba(60, 64, 67, 0.3), 0px 1px 3px 1px rgba(60, 64, 67, 0.15);\n",
              "      fill: #174EA6;\n",
              "    }\n",
              "\n",
              "    [theme=dark] .colab-df-convert {\n",
              "      background-color: #3B4455;\n",
              "      fill: #D2E3FC;\n",
              "    }\n",
              "\n",
              "    [theme=dark] .colab-df-convert:hover {\n",
              "      background-color: #434B5C;\n",
              "      box-shadow: 0px 1px 3px 1px rgba(0, 0, 0, 0.15);\n",
              "      filter: drop-shadow(0px 1px 2px rgba(0, 0, 0, 0.3));\n",
              "      fill: #FFFFFF;\n",
              "    }\n",
              "  </style>\n",
              "\n",
              "      <script>\n",
              "        const buttonEl =\n",
              "          document.querySelector('#df-cca1053d-6cff-48a0-91ad-6d51ae7dbef5 button.colab-df-convert');\n",
              "        buttonEl.style.display =\n",
              "          google.colab.kernel.accessAllowed ? 'block' : 'none';\n",
              "\n",
              "        async function convertToInteractive(key) {\n",
              "          const element = document.querySelector('#df-cca1053d-6cff-48a0-91ad-6d51ae7dbef5');\n",
              "          const dataTable =\n",
              "            await google.colab.kernel.invokeFunction('convertToInteractive',\n",
              "                                                     [key], {});\n",
              "          if (!dataTable) return;\n",
              "\n",
              "          const docLinkHtml = 'Like what you see? Visit the ' +\n",
              "            '<a target=\"_blank\" href=https://colab.research.google.com/notebooks/data_table.ipynb>data table notebook</a>'\n",
              "            + ' to learn more about interactive tables.';\n",
              "          element.innerHTML = '';\n",
              "          dataTable['output_type'] = 'display_data';\n",
              "          await google.colab.output.renderOutput(dataTable, element);\n",
              "          const docLink = document.createElement('div');\n",
              "          docLink.innerHTML = docLinkHtml;\n",
              "          element.appendChild(docLink);\n",
              "        }\n",
              "      </script>\n",
              "    </div>\n",
              "  </div>\n",
              "  "
            ]
          },
          "metadata": {},
          "execution_count": 33
        }
      ]
    },
    {
      "cell_type": "code",
      "source": [
        "y = df[['not.fully.paid']]"
      ],
      "metadata": {
        "id": "HlxS5NpC_iN-"
      },
      "execution_count": 34,
      "outputs": []
    },
    {
      "cell_type": "code",
      "source": [
        "plt.figure(figsize=(40,15))\n",
        "sns.heatmap(x_num.corr(),annot=True,cmap='bwr')\n",
        "plt.show()"
      ],
      "metadata": {
        "colab": {
          "base_uri": "https://localhost:8080/",
          "height": 691
        },
        "id": "dQiVm7a9_uHu",
        "outputId": "12793c63-a78f-4f1b-be1c-93bfaeb42c0c"
      },
      "execution_count": 35,
      "outputs": [
        {
          "output_type": "display_data",
          "data": {
            "text/plain": [
              "<Figure size 2880x1080 with 2 Axes>"
            ],
            "image/png": "[encoded data removed]"
          },
          "metadata": {
            "needs_background": "light"
          }
        }
      ]
    },
    {
      "cell_type": "code",
      "source": [
        "matrix =x_num.corr().unstack()\n",
        "sorted_pairs = matrix.sort_values()"
      ],
      "metadata": {
        "id": "ozao-xDN_9Vp"
      },
      "execution_count": 36,
      "outputs": []
    },
    {
      "cell_type": "code",
      "source": [
        "sorted_pairs[abs(sorted_pairs)>0.7]"
      ],
      "metadata": {
        "colab": {
          "base_uri": "https://localhost:8080/"
        },
        "id": "r1h4TqEuBBBj",
        "outputId": "a6d92bb9-33e6-45fc-c4e4-34c8fe3d94cb"
      },
      "execution_count": 37,
      "outputs": [
        {
          "output_type": "execute_result",
          "data": {
            "text/plain": [
              "int.rate           int.rate             1.0\n",
              "days.with.cr.line  days.with.cr.line    1.0\n",
              "fico               fico                 1.0\n",
              "dti                dti                  1.0\n",
              "log.annual.inc     log.annual.inc       1.0\n",
              "installment        installment          1.0\n",
              "revol.bal          revol.bal            1.0\n",
              "revol.util         revol.util           1.0\n",
              "dtype: float64"
            ]
          },
          "metadata": {},
          "execution_count": 37
        }
      ]
    },
    {
      "cell_type": "code",
      "source": [],
      "metadata": {
        "id": "-MMOqmHlBJFd"
      },
      "execution_count": 37,
      "outputs": []
    },
    {
      "cell_type": "code",
      "source": [
        "from sklearn.svm import SVR\n",
        "estimator = SVR(kernel='linear')\n",
        "rfe = RFE(estimator,n_features_to_select=5,step = 1)\n",
        "rfe= rfe.fit(x_num,y.values)"
      ],
      "metadata": {
        "colab": {
          "base_uri": "https://localhost:8080/"
        },
        "id": "DZX5-AGsBKuj",
        "outputId": "38ac2f65-1a2f-4cdf-cc3b-114a8ffcf98c"
      },
      "execution_count": 39,
      "outputs": [
        {
          "output_type": "stream",
          "name": "stderr",
          "text": [
            "/usr/local/lib/python3.8/dist-packages/sklearn/utils/validation.py:993: DataConversionWarning: A column-vector y was passed when a 1d array was expected. Please change the shape of y to (n_samples, ), for example using ravel().\n",
            "  y = column_or_1d(y, warn=True)\n",
            "/usr/local/lib/python3.8/dist-packages/sklearn/utils/validation.py:993: DataConversionWarning: A column-vector y was passed when a 1d array was expected. Please change the shape of y to (n_samples, ), for example using ravel().\n",
            "  y = column_or_1d(y, warn=True)\n",
            "/usr/local/lib/python3.8/dist-packages/sklearn/utils/validation.py:993: DataConversionWarning: A column-vector y was passed when a 1d array was expected. Please change the shape of y to (n_samples, ), for example using ravel().\n",
            "  y = column_or_1d(y, warn=True)\n",
            "/usr/local/lib/python3.8/dist-packages/sklearn/utils/validation.py:993: DataConversionWarning: A column-vector y was passed when a 1d array was expected. Please change the shape of y to (n_samples, ), for example using ravel().\n",
            "  y = column_or_1d(y, warn=True)\n"
          ]
        }
      ]
    },
    {
      "cell_type": "code",
      "source": [
        "list(zip(x_num.columns ,rfe.support_,rfe.ranking_))"
      ],
      "metadata": {
        "colab": {
          "base_uri": "https://localhost:8080/"
        },
        "id": "Q0t0Fmut1PJL",
        "outputId": "795c9af1-06ec-4de9-f158-c1a7a260edc4"
      },
      "execution_count": 41,
      "outputs": [
        {
          "output_type": "execute_result",
          "data": {
            "text/plain": [
              "[('int.rate', True, 1),\n",
              " ('installment', True, 1),\n",
              " ('log.annual.inc', True, 1),\n",
              " ('dti', False, 3),\n",
              " ('fico', True, 1),\n",
              " ('days.with.cr.line', True, 1),\n",
              " ('revol.bal', False, 2),\n",
              " ('revol.util', False, 4)]"
            ]
          },
          "metadata": {},
          "execution_count": 41
        }
      ]
    },
    {
      "cell_type": "code",
      "source": [
        "selected_cols = x_num.columns[rfe.support_]\n",
        "selected_cols"
      ],
      "metadata": {
        "colab": {
          "base_uri": "https://localhost:8080/"
        },
        "id": "W83SaH3b4n3d",
        "outputId": "d6a9d851-aeea-44eb-8c17-ecf142a7bc2b"
      },
      "execution_count": 45,
      "outputs": [
        {
          "output_type": "execute_result",
          "data": {
            "text/plain": [
              "Index(['int.rate', 'installment', 'log.annual.inc', 'fico',\n",
              "       'days.with.cr.line'],\n",
              "      dtype='object')"
            ]
          },
          "metadata": {},
          "execution_count": 45
        }
      ]
    },
    {
      "cell_type": "code",
      "source": [
        "best_num_cols = df[selected_cols]"
      ],
      "metadata": {
        "id": "NVVXX6_M8nWF"
      },
      "execution_count": 58,
      "outputs": []
    },
    {
      "cell_type": "code",
      "source": [
        "# select best categrical columns"
      ],
      "metadata": {
        "id": "PNhj0bUV88AC"
      },
      "execution_count": 65,
      "outputs": []
    },
    {
      "cell_type": "code",
      "source": [
        "cat_vars = df[cat_data.columns].drop('not.fully.paid',axis=1)\n",
        "cat_vars.head()"
      ],
      "metadata": {
        "colab": {
          "base_uri": "https://localhost:8080/",
          "height": 206
        },
        "id": "rMTZrWjX-Rxq",
        "outputId": "44edee71-7c64-44fe-8175-ca814228a986"
      },
      "execution_count": 66,
      "outputs": [
        {
          "output_type": "execute_result",
          "data": {
            "text/plain": [
              "      credit.policy  purpose  inq.last.6mths  delinq.2yrs\n",
              "8008              0        6               5            2\n",
              "7050              1        2               0            0\n",
              "6386              1        2               5            0\n",
              "8744              0        1               8            1\n",
              "8357              0        0               5            1"
            ],
            "text/html": [
              "\n",
              "  <div id=\"df-122c2376-fd60-49c5-8324-b69e6dfbe5b0\">\n",
              "    <div class=\"colab-df-container\">\n",
              "      <div>\n",
              "<style scoped>\n",
              "    .dataframe tbody tr th:only-of-type {\n",
              "        vertical-align: middle;\n",
              "    }\n",
              "\n",
              "    .dataframe tbody tr th {\n",
              "        vertical-align: top;\n",
              "    }\n",
              "\n",
              "    .dataframe thead th {\n",
              "        text-align: right;\n",
              "    }\n",
              "</style>\n",
              "<table border=\"1\" class=\"dataframe\">\n",
              "  <thead>\n",
              "    <tr style=\"text-align: right;\">\n",
              "      <th></th>\n",
              "      <th>credit.policy</th>\n",
              "      <th>purpose</th>\n",
              "      <th>inq.last.6mths</th>\n",
              "      <th>delinq.2yrs</th>\n",
              "    </tr>\n",
              "  </thead>\n",
              "  <tbody>\n",
              "    <tr>\n",
              "      <th>8008</th>\n",
              "      <td>0</td>\n",
              "      <td>6</td>\n",
              "      <td>5</td>\n",
              "      <td>2</td>\n",
              "    </tr>\n",
              "    <tr>\n",
              "      <th>7050</th>\n",
              "      <td>1</td>\n",
              "      <td>2</td>\n",
              "      <td>0</td>\n",
              "      <td>0</td>\n",
              "    </tr>\n",
              "    <tr>\n",
              "      <th>6386</th>\n",
              "      <td>1</td>\n",
              "      <td>2</td>\n",
              "      <td>5</td>\n",
              "      <td>0</td>\n",
              "    </tr>\n",
              "    <tr>\n",
              "      <th>8744</th>\n",
              "      <td>0</td>\n",
              "      <td>1</td>\n",
              "      <td>8</td>\n",
              "      <td>1</td>\n",
              "    </tr>\n",
              "    <tr>\n",
              "      <th>8357</th>\n",
              "      <td>0</td>\n",
              "      <td>0</td>\n",
              "      <td>5</td>\n",
              "      <td>1</td>\n",
              "    </tr>\n",
              "  </tbody>\n",
              "</table>\n",
              "</div>\n",
              "      <button class=\"colab-df-convert\" onclick=\"convertToInteractive('df-122c2376-fd60-49c5-8324-b69e6dfbe5b0')\"\n",
              "              title=\"Convert this dataframe to an interactive table.\"\n",
              "              style=\"display:none;\">\n",
              "        \n",
              "  <svg xmlns=\"http://www.w3.org/2000/svg\" height=\"24px\"viewBox=\"0 0 24 24\"\n",
              "       width=\"24px\">\n",
              "    <path d=\"M0 0h24v24H0V0z\" fill=\"none\"/>\n",
              "    <path d=\"M18.56 5.44l.94 2.06.94-2.06 2.06-.94-2.06-.94-.94-2.06-.94 2.06-2.06.94zm-11 1L8.5 8.5l.94-2.06 2.06-.94-2.06-.94L8.5 2.5l-.94 2.06-2.06.94zm10 10l.94 2.06.94-2.06 2.06-.94-2.06-.94-.94-2.06-.94 2.06-2.06.94z\"/><path d=\"M17.41 7.96l-1.37-1.37c-.4-.4-.92-.59-1.43-.59-.52 0-1.04.2-1.43.59L10.3 9.45l-7.72 7.72c-.78.78-.78 2.05 0 2.83L4 21.41c.39.39.9.59 1.41.59.51 0 1.02-.2 1.41-.59l7.78-7.78 2.81-2.81c.8-.78.8-2.07 0-2.86zM5.41 20L4 18.59l7.72-7.72 1.47 1.35L5.41 20z\"/>\n",
              "  </svg>\n",
              "      </button>\n",
              "      \n",
              "  <style>\n",
              "    .colab-df-container {\n",
              "      display:flex;\n",
              "      flex-wrap:wrap;\n",
              "      gap: 12px;\n",
              "    }\n",
              "\n",
              "    .colab-df-convert {\n",
              "      background-color: #E8F0FE;\n",
              "      border: none;\n",
              "      border-radius: 50%;\n",
              "      cursor: pointer;\n",
              "      display: none;\n",
              "      fill: #1967D2;\n",
              "      height: 32px;\n",
              "      padding: 0 0 0 0;\n",
              "      width: 32px;\n",
              "    }\n",
              "\n",
              "    .colab-df-convert:hover {\n",
              "      background-color: #E2EBFA;\n",
              "      box-shadow: 0px 1px 2px rgba(60, 64, 67, 0.3), 0px 1px 3px 1px rgba(60, 64, 67, 0.15);\n",
              "      fill: #174EA6;\n",
              "    }\n",
              "\n",
              "    [theme=dark] .colab-df-convert {\n",
              "      background-color: #3B4455;\n",
              "      fill: #D2E3FC;\n",
              "    }\n",
              "\n",
              "    [theme=dark] .colab-df-convert:hover {\n",
              "      background-color: #434B5C;\n",
              "      box-shadow: 0px 1px 3px 1px rgba(0, 0, 0, 0.15);\n",
              "      filter: drop-shadow(0px 1px 2px rgba(0, 0, 0, 0.3));\n",
              "      fill: #FFFFFF;\n",
              "    }\n",
              "  </style>\n",
              "\n",
              "      <script>\n",
              "        const buttonEl =\n",
              "          document.querySelector('#df-122c2376-fd60-49c5-8324-b69e6dfbe5b0 button.colab-df-convert');\n",
              "        buttonEl.style.display =\n",
              "          google.colab.kernel.accessAllowed ? 'block' : 'none';\n",
              "\n",
              "        async function convertToInteractive(key) {\n",
              "          const element = document.querySelector('#df-122c2376-fd60-49c5-8324-b69e6dfbe5b0');\n",
              "          const dataTable =\n",
              "            await google.colab.kernel.invokeFunction('convertToInteractive',\n",
              "                                                     [key], {});\n",
              "          if (!dataTable) return;\n",
              "\n",
              "          const docLinkHtml = 'Like what you see? Visit the ' +\n",
              "            '<a target=\"_blank\" href=https://colab.research.google.com/notebooks/data_table.ipynb>data table notebook</a>'\n",
              "            + ' to learn more about interactive tables.';\n",
              "          element.innerHTML = '';\n",
              "          dataTable['output_type'] = 'display_data';\n",
              "          await google.colab.output.renderOutput(dataTable, element);\n",
              "          const docLink = document.createElement('div');\n",
              "          docLink.innerHTML = docLinkHtml;\n",
              "          element.appendChild(docLink);\n",
              "        }\n",
              "      </script>\n",
              "    </div>\n",
              "  </div>\n",
              "  "
            ]
          },
          "metadata": {},
          "execution_count": 66
        }
      ]
    },
    {
      "cell_type": "code",
      "source": [
        "f_p_values = chi2(cat_vars,df['not.fully.paid'])\n",
        "f_p_values"
      ],
      "metadata": {
        "colab": {
          "base_uri": "https://localhost:8080/"
        },
        "id": "h5O64W4Q-Ze6",
        "outputId": "8b088b6e-7dd5-4116-fd96-2961a70748e4"
      },
      "execution_count": 71,
      "outputs": [
        {
          "output_type": "execute_result",
          "data": {
            "text/plain": [
              "(array([ 155.64071856,  116.07241495, 1634.36191996,    7.05403432]),\n",
              " array([1.01432920e-35, 4.58254427e-27, 0.00000000e+00, 7.90869323e-03]))"
            ]
          },
          "metadata": {},
          "execution_count": 71
        }
      ]
    },
    {
      "cell_type": "code",
      "source": [
        "# wseeing what value belongs to which feature\n",
        "pd.Series(f_p_values[1],cat_vars.columns).sort_values(ascending=True)"
      ],
      "metadata": {
        "colab": {
          "base_uri": "https://localhost:8080/"
        },
        "id": "yZxLHKtR-mXC",
        "outputId": "aa69f1d2-5a50-42cd-ed6b-b8e6df1fea49"
      },
      "execution_count": 81,
      "outputs": [
        {
          "output_type": "execute_result",
          "data": {
            "text/plain": [
              "inq.last.6mths    0.000000e+00\n",
              "credit.policy     1.014329e-35\n",
              "purpose           4.582544e-27\n",
              "delinq.2yrs       7.908693e-03\n",
              "dtype: float64"
            ]
          },
          "metadata": {},
          "execution_count": 81
        }
      ]
    },
    {
      "cell_type": "code",
      "source": [
        "# all four categorical columns have p value less than 0.05 . so consider all of them"
      ],
      "metadata": {
        "id": "fi6cSP4-A_qu"
      },
      "execution_count": 82,
      "outputs": []
    },
    {
      "cell_type": "code",
      "source": [
        "x = df[['int.rate', 'installment', 'log.annual.inc', 'dti', 'fico', 'inq.last.6mths','credit.policy', 'purpose','delinq.2yrs']]\n",
        "x.head()"
      ],
      "metadata": {
        "colab": {
          "base_uri": "https://localhost:8080/",
          "height": 206
        },
        "id": "p8lP-i_9BDPh",
        "outputId": "f2314dc5-039d-4175-8cd8-4b7fc27b6877"
      },
      "execution_count": 85,
      "outputs": [
        {
          "output_type": "execute_result",
          "data": {
            "text/plain": [
              "      int.rate  installment  log.annual.inc    dti      fico  inq.last.6mths  \\\n",
              "8008    0.1280     6.224499       11.002100  22.44  6.533789               5   \n",
              "7050    0.1311     5.989437       11.238489  20.42  6.541030               0   \n",
              "6386    0.1148     6.171805       11.277203   6.88  6.624065               5   \n",
              "8744    0.1064     5.502360       10.596635   2.07  6.555357               8   \n",
              "8357    0.1324     5.136093       10.239960  19.54  6.504288               5   \n",
              "\n",
              "      credit.policy  purpose  delinq.2yrs  \n",
              "8008              0        6            2  \n",
              "7050              1        2            0  \n",
              "6386              1        2            0  \n",
              "8744              0        1            1  \n",
              "8357              0        0            1  "
            ],
            "text/html": [
              "\n",
              "  <div id=\"df-cff8857e-6457-4ae5-8ba0-fbf697088937\">\n",
              "    <div class=\"colab-df-container\">\n",
              "      <div>\n",
              "<style scoped>\n",
              "    .dataframe tbody tr th:only-of-type {\n",
              "        vertical-align: middle;\n",
              "    }\n",
              "\n",
              "    .dataframe tbody tr th {\n",
              "        vertical-align: top;\n",
              "    }\n",
              "\n",
              "    .dataframe thead th {\n",
              "        text-align: right;\n",
              "    }\n",
              "</style>\n",
              "<table border=\"1\" class=\"dataframe\">\n",
              "  <thead>\n",
              "    <tr style=\"text-align: right;\">\n",
              "      <th></th>\n",
              "      <th>int.rate</th>\n",
              "      <th>installment</th>\n",
              "      <th>log.annual.inc</th>\n",
              "      <th>dti</th>\n",
              "      <th>fico</th>\n",
              "      <th>inq.last.6mths</th>\n",
              "      <th>credit.policy</th>\n",
              "      <th>purpose</th>\n",
              "      <th>delinq.2yrs</th>\n",
              "    </tr>\n",
              "  </thead>\n",
              "  <tbody>\n",
              "    <tr>\n",
              "      <th>8008</th>\n",
              "      <td>0.1280</td>\n",
              "      <td>6.224499</td>\n",
              "      <td>11.002100</td>\n",
              "      <td>22.44</td>\n",
              "      <td>6.533789</td>\n",
              "      <td>5</td>\n",
              "      <td>0</td>\n",
              "      <td>6</td>\n",
              "      <td>2</td>\n",
              "    </tr>\n",
              "    <tr>\n",
              "      <th>7050</th>\n",
              "      <td>0.1311</td>\n",
              "      <td>5.989437</td>\n",
              "      <td>11.238489</td>\n",
              "      <td>20.42</td>\n",
              "      <td>6.541030</td>\n",
              "      <td>0</td>\n",
              "      <td>1</td>\n",
              "      <td>2</td>\n",
              "      <td>0</td>\n",
              "    </tr>\n",
              "    <tr>\n",
              "      <th>6386</th>\n",
              "      <td>0.1148</td>\n",
              "      <td>6.171805</td>\n",
              "      <td>11.277203</td>\n",
              "      <td>6.88</td>\n",
              "      <td>6.624065</td>\n",
              "      <td>5</td>\n",
              "      <td>1</td>\n",
              "      <td>2</td>\n",
              "      <td>0</td>\n",
              "    </tr>\n",
              "    <tr>\n",
              "      <th>8744</th>\n",
              "      <td>0.1064</td>\n",
              "      <td>5.502360</td>\n",
              "      <td>10.596635</td>\n",
              "      <td>2.07</td>\n",
              "      <td>6.555357</td>\n",
              "      <td>8</td>\n",
              "      <td>0</td>\n",
              "      <td>1</td>\n",
              "      <td>1</td>\n",
              "    </tr>\n",
              "    <tr>\n",
              "      <th>8357</th>\n",
              "      <td>0.1324</td>\n",
              "      <td>5.136093</td>\n",
              "      <td>10.239960</td>\n",
              "      <td>19.54</td>\n",
              "      <td>6.504288</td>\n",
              "      <td>5</td>\n",
              "      <td>0</td>\n",
              "      <td>0</td>\n",
              "      <td>1</td>\n",
              "    </tr>\n",
              "  </tbody>\n",
              "</table>\n",
              "</div>\n",
              "      <button class=\"colab-df-convert\" onclick=\"convertToInteractive('df-cff8857e-6457-4ae5-8ba0-fbf697088937')\"\n",
              "              title=\"Convert this dataframe to an interactive table.\"\n",
              "              style=\"display:none;\">\n",
              "        \n",
              "  <svg xmlns=\"http://www.w3.org/2000/svg\" height=\"24px\"viewBox=\"0 0 24 24\"\n",
              "       width=\"24px\">\n",
              "    <path d=\"M0 0h24v24H0V0z\" fill=\"none\"/>\n",
              "    <path d=\"M18.56 5.44l.94 2.06.94-2.06 2.06-.94-2.06-.94-.94-2.06-.94 2.06-2.06.94zm-11 1L8.5 8.5l.94-2.06 2.06-.94-2.06-.94L8.5 2.5l-.94 2.06-2.06.94zm10 10l.94 2.06.94-2.06 2.06-.94-2.06-.94-.94-2.06-.94 2.06-2.06.94z\"/><path d=\"M17.41 7.96l-1.37-1.37c-.4-.4-.92-.59-1.43-.59-.52 0-1.04.2-1.43.59L10.3 9.45l-7.72 7.72c-.78.78-.78 2.05 0 2.83L4 21.41c.39.39.9.59 1.41.59.51 0 1.02-.2 1.41-.59l7.78-7.78 2.81-2.81c.8-.78.8-2.07 0-2.86zM5.41 20L4 18.59l7.72-7.72 1.47 1.35L5.41 20z\"/>\n",
              "  </svg>\n",
              "      </button>\n",
              "      \n",
              "  <style>\n",
              "    .colab-df-container {\n",
              "      display:flex;\n",
              "      flex-wrap:wrap;\n",
              "      gap: 12px;\n",
              "    }\n",
              "\n",
              "    .colab-df-convert {\n",
              "      background-color: #E8F0FE;\n",
              "      border: none;\n",
              "      border-radius: 50%;\n",
              "      cursor: pointer;\n",
              "      display: none;\n",
              "      fill: #1967D2;\n",
              "      height: 32px;\n",
              "      padding: 0 0 0 0;\n",
              "      width: 32px;\n",
              "    }\n",
              "\n",
              "    .colab-df-convert:hover {\n",
              "      background-color: #E2EBFA;\n",
              "      box-shadow: 0px 1px 2px rgba(60, 64, 67, 0.3), 0px 1px 3px 1px rgba(60, 64, 67, 0.15);\n",
              "      fill: #174EA6;\n",
              "    }\n",
              "\n",
              "    [theme=dark] .colab-df-convert {\n",
              "      background-color: #3B4455;\n",
              "      fill: #D2E3FC;\n",
              "    }\n",
              "\n",
              "    [theme=dark] .colab-df-convert:hover {\n",
              "      background-color: #434B5C;\n",
              "      box-shadow: 0px 1px 3px 1px rgba(0, 0, 0, 0.15);\n",
              "      filter: drop-shadow(0px 1px 2px rgba(0, 0, 0, 0.3));\n",
              "      fill: #FFFFFF;\n",
              "    }\n",
              "  </style>\n",
              "\n",
              "      <script>\n",
              "        const buttonEl =\n",
              "          document.querySelector('#df-cff8857e-6457-4ae5-8ba0-fbf697088937 button.colab-df-convert');\n",
              "        buttonEl.style.display =\n",
              "          google.colab.kernel.accessAllowed ? 'block' : 'none';\n",
              "\n",
              "        async function convertToInteractive(key) {\n",
              "          const element = document.querySelector('#df-cff8857e-6457-4ae5-8ba0-fbf697088937');\n",
              "          const dataTable =\n",
              "            await google.colab.kernel.invokeFunction('convertToInteractive',\n",
              "                                                     [key], {});\n",
              "          if (!dataTable) return;\n",
              "\n",
              "          const docLinkHtml = 'Like what you see? Visit the ' +\n",
              "            '<a target=\"_blank\" href=https://colab.research.google.com/notebooks/data_table.ipynb>data table notebook</a>'\n",
              "            + ' to learn more about interactive tables.';\n",
              "          element.innerHTML = '';\n",
              "          dataTable['output_type'] = 'display_data';\n",
              "          await google.colab.output.renderOutput(dataTable, element);\n",
              "          const docLink = document.createElement('div');\n",
              "          docLink.innerHTML = docLinkHtml;\n",
              "          element.appendChild(docLink);\n",
              "        }\n",
              "      </script>\n",
              "    </div>\n",
              "  </div>\n",
              "  "
            ]
          },
          "metadata": {},
          "execution_count": 85
        }
      ]
    },
    {
      "cell_type": "code",
      "source": [
        "x_train, x_test, y_train, y_test = train_test_split(x, y, test_size = 0.2, random_state = 42)"
      ],
      "metadata": {
        "id": "R4ilKOqoCdX-"
      },
      "execution_count": 88,
      "outputs": []
    },
    {
      "cell_type": "code",
      "source": [
        "# Scale the data\n",
        "sc = StandardScaler()\n",
        "x_train = sc.fit_transform(x_train)\n",
        "x_test = sc.transform(x_test)"
      ],
      "metadata": {
        "id": "ZPa2fIgFCnHl"
      },
      "execution_count": 89,
      "outputs": []
    },
    {
      "cell_type": "code",
      "source": [
        "model  = keras.Sequential(\n",
        "    [\n",
        "        keras.layers.Dense(\n",
        "        256, activation=\"relu\", input_shape=[9]),\n",
        "        keras.layers.Dense(256, activation=\"relu\"),\n",
        "        keras.layers.Dropout(0.3),\n",
        "        keras.layers.Dense(256, activation=\"relu\"),\n",
        "        keras.layers.Dropout(0.3),\n",
        "        keras.layers.Dense(1, activation=\"sigmoid\"),\n",
        "    ]\n",
        ")\n",
        "model.summary()"
      ],
      "metadata": {
        "colab": {
          "base_uri": "https://localhost:8080/"
        },
        "id": "tBtC__MECwB2",
        "outputId": "e07863e8-b1ca-496f-8a17-fe3ee4d4c774"
      },
      "execution_count": 93,
      "outputs": [
        {
          "output_type": "stream",
          "name": "stdout",
          "text": [
            "Model: \"sequential_1\"\n",
            "_________________________________________________________________\n",
            " Layer (type)                Output Shape              Param #   \n",
            "=================================================================\n",
            " dense_4 (Dense)             (None, 256)               2560      \n",
            "                                                                 \n",
            " dense_5 (Dense)             (None, 256)               65792     \n",
            "                                                                 \n",
            " dropout_2 (Dropout)         (None, 256)               0         \n",
            "                                                                 \n",
            " dense_6 (Dense)             (None, 256)               65792     \n",
            "                                                                 \n",
            " dropout_3 (Dropout)         (None, 256)               0         \n",
            "                                                                 \n",
            " dense_7 (Dense)             (None, 1)                 257       \n",
            "                                                                 \n",
            "=================================================================\n",
            "Total params: 134,401\n",
            "Trainable params: 134,401\n",
            "Non-trainable params: 0\n",
            "_________________________________________________________________\n"
          ]
        }
      ]
    },
    {
      "cell_type": "code",
      "source": [
        "model.compile(optimizer = 'Adam', loss = 'binary_crossentropy', metrics = ['binary_accuracy'])"
      ],
      "metadata": {
        "id": "j3AyKjrnC6N6"
      },
      "execution_count": 94,
      "outputs": []
    },
    {
      "cell_type": "code",
      "source": [
        "early_stopping = keras.callbacks.EarlyStopping(patience=10, min_delta=0.001, restore_best_weights=True)\n",
        "history = model.fit(\n",
        "    x_train, y_train,\n",
        "    validation_data=(x_test, y_test),\n",
        "    batch_size=256,\n",
        "    epochs=100,\n",
        "    callbacks=[early_stopping],\n",
        "    verbose=1,\n",
        ")"
      ],
      "metadata": {
        "colab": {
          "base_uri": "https://localhost:8080/"
        },
        "id": "6HnAGuufEEsI",
        "outputId": "e25a71ec-a03a-47f4-ca6d-ecf1abc36721"
      },
      "execution_count": 98,
      "outputs": [
        {
          "output_type": "stream",
          "name": "stdout",
          "text": [
            "Epoch 1/100\n",
            "51/51 [==============================] - 1s 21ms/step - loss: 0.4797 - binary_accuracy: 0.7547 - val_loss: 0.5214 - val_binary_accuracy: 0.7390\n",
            "Epoch 2/100\n",
            "51/51 [==============================] - 1s 14ms/step - loss: 0.4791 - binary_accuracy: 0.7571 - val_loss: 0.5165 - val_binary_accuracy: 0.7362\n",
            "Epoch 3/100\n",
            "51/51 [==============================] - 1s 13ms/step - loss: 0.4688 - binary_accuracy: 0.7609 - val_loss: 0.5187 - val_binary_accuracy: 0.7523\n",
            "Epoch 4/100\n",
            "51/51 [==============================] - 1s 12ms/step - loss: 0.4743 - binary_accuracy: 0.7557 - val_loss: 0.5071 - val_binary_accuracy: 0.7523\n",
            "Epoch 5/100\n",
            "51/51 [==============================] - 1s 12ms/step - loss: 0.4654 - binary_accuracy: 0.7641 - val_loss: 0.5140 - val_binary_accuracy: 0.7464\n",
            "Epoch 6/100\n",
            "51/51 [==============================] - 1s 13ms/step - loss: 0.4545 - binary_accuracy: 0.7702 - val_loss: 0.5073 - val_binary_accuracy: 0.7483\n",
            "Epoch 7/100\n",
            "51/51 [==============================] - 1s 13ms/step - loss: 0.4581 - binary_accuracy: 0.7651 - val_loss: 0.5123 - val_binary_accuracy: 0.7495\n",
            "Epoch 8/100\n",
            "51/51 [==============================] - 1s 13ms/step - loss: 0.4529 - binary_accuracy: 0.7777 - val_loss: 0.4994 - val_binary_accuracy: 0.7604\n",
            "Epoch 9/100\n",
            "51/51 [==============================] - 1s 13ms/step - loss: 0.4440 - binary_accuracy: 0.7777 - val_loss: 0.5053 - val_binary_accuracy: 0.7592\n",
            "Epoch 10/100\n",
            "51/51 [==============================] - 1s 13ms/step - loss: 0.4475 - binary_accuracy: 0.7770 - val_loss: 0.4913 - val_binary_accuracy: 0.7548\n",
            "Epoch 11/100\n",
            "51/51 [==============================] - 1s 13ms/step - loss: 0.4470 - binary_accuracy: 0.7822 - val_loss: 0.5132 - val_binary_accuracy: 0.7557\n",
            "Epoch 12/100\n",
            "51/51 [==============================] - 1s 12ms/step - loss: 0.4378 - binary_accuracy: 0.7825 - val_loss: 0.5008 - val_binary_accuracy: 0.7632\n",
            "Epoch 13/100\n",
            "51/51 [==============================] - 1s 19ms/step - loss: 0.4309 - binary_accuracy: 0.7885 - val_loss: 0.5036 - val_binary_accuracy: 0.7601\n",
            "Epoch 14/100\n",
            "51/51 [==============================] - 2s 37ms/step - loss: 0.4396 - binary_accuracy: 0.7804 - val_loss: 0.4956 - val_binary_accuracy: 0.7713\n",
            "Epoch 15/100\n",
            "51/51 [==============================] - 1s 22ms/step - loss: 0.4283 - binary_accuracy: 0.7894 - val_loss: 0.4867 - val_binary_accuracy: 0.7623\n",
            "Epoch 16/100\n",
            "51/51 [==============================] - 1s 25ms/step - loss: 0.4269 - binary_accuracy: 0.7920 - val_loss: 0.4931 - val_binary_accuracy: 0.7707\n",
            "Epoch 17/100\n",
            "51/51 [==============================] - 2s 30ms/step - loss: 0.4222 - binary_accuracy: 0.7930 - val_loss: 0.4842 - val_binary_accuracy: 0.7672\n",
            "Epoch 18/100\n",
            "51/51 [==============================] - 1s 20ms/step - loss: 0.4153 - binary_accuracy: 0.7958 - val_loss: 0.5007 - val_binary_accuracy: 0.7784\n",
            "Epoch 19/100\n",
            "51/51 [==============================] - 1s 15ms/step - loss: 0.4152 - binary_accuracy: 0.7960 - val_loss: 0.4847 - val_binary_accuracy: 0.7787\n",
            "Epoch 20/100\n",
            "51/51 [==============================] - 1s 16ms/step - loss: 0.4123 - binary_accuracy: 0.7997 - val_loss: 0.4902 - val_binary_accuracy: 0.7660\n",
            "Epoch 21/100\n",
            "51/51 [==============================] - 1s 27ms/step - loss: 0.4096 - binary_accuracy: 0.7995 - val_loss: 0.4814 - val_binary_accuracy: 0.7775\n",
            "Epoch 22/100\n",
            "51/51 [==============================] - 1s 28ms/step - loss: 0.4090 - binary_accuracy: 0.8025 - val_loss: 0.4872 - val_binary_accuracy: 0.7759\n",
            "Epoch 23/100\n",
            "51/51 [==============================] - 1s 28ms/step - loss: 0.4083 - binary_accuracy: 0.7990 - val_loss: 0.4944 - val_binary_accuracy: 0.7797\n",
            "Epoch 24/100\n",
            "51/51 [==============================] - 2s 42ms/step - loss: 0.4048 - binary_accuracy: 0.8034 - val_loss: 0.4883 - val_binary_accuracy: 0.7747\n",
            "Epoch 25/100\n",
            "51/51 [==============================] - 1s 28ms/step - loss: 0.3976 - binary_accuracy: 0.8083 - val_loss: 0.4966 - val_binary_accuracy: 0.7800\n",
            "Epoch 26/100\n",
            "51/51 [==============================] - 1s 15ms/step - loss: 0.3977 - binary_accuracy: 0.8082 - val_loss: 0.4838 - val_binary_accuracy: 0.7871\n",
            "Epoch 27/100\n",
            "51/51 [==============================] - 1s 20ms/step - loss: 0.3960 - binary_accuracy: 0.8063 - val_loss: 0.4694 - val_binary_accuracy: 0.7915\n",
            "Epoch 28/100\n",
            "51/51 [==============================] - 1s 18ms/step - loss: 0.3939 - binary_accuracy: 0.8117 - val_loss: 0.4900 - val_binary_accuracy: 0.7778\n",
            "Epoch 29/100\n",
            "51/51 [==============================] - 1s 24ms/step - loss: 0.3916 - binary_accuracy: 0.8101 - val_loss: 0.4831 - val_binary_accuracy: 0.7843\n",
            "Epoch 30/100\n",
            "51/51 [==============================] - 1s 17ms/step - loss: 0.3858 - binary_accuracy: 0.8159 - val_loss: 0.4820 - val_binary_accuracy: 0.7915\n",
            "Epoch 31/100\n",
            "51/51 [==============================] - 1s 17ms/step - loss: 0.3834 - binary_accuracy: 0.8188 - val_loss: 0.4752 - val_binary_accuracy: 0.7955\n",
            "Epoch 32/100\n",
            "51/51 [==============================] - 1s 18ms/step - loss: 0.3818 - binary_accuracy: 0.8167 - val_loss: 0.4830 - val_binary_accuracy: 0.7819\n",
            "Epoch 33/100\n",
            "51/51 [==============================] - 1s 15ms/step - loss: 0.3853 - binary_accuracy: 0.8181 - val_loss: 0.4826 - val_binary_accuracy: 0.7899\n",
            "Epoch 34/100\n",
            "51/51 [==============================] - 1s 16ms/step - loss: 0.3746 - binary_accuracy: 0.8252 - val_loss: 0.4737 - val_binary_accuracy: 0.7884\n",
            "Epoch 35/100\n",
            "51/51 [==============================] - 1s 18ms/step - loss: 0.3761 - binary_accuracy: 0.8222 - val_loss: 0.4975 - val_binary_accuracy: 0.7825\n",
            "Epoch 36/100\n",
            "51/51 [==============================] - 1s 17ms/step - loss: 0.3829 - binary_accuracy: 0.8176 - val_loss: 0.4798 - val_binary_accuracy: 0.7946\n",
            "Epoch 37/100\n",
            "51/51 [==============================] - 1s 23ms/step - loss: 0.3764 - binary_accuracy: 0.8198 - val_loss: 0.4674 - val_binary_accuracy: 0.7993\n",
            "Epoch 38/100\n",
            "51/51 [==============================] - 1s 27ms/step - loss: 0.3679 - binary_accuracy: 0.8276 - val_loss: 0.4702 - val_binary_accuracy: 0.7965\n",
            "Epoch 39/100\n",
            "51/51 [==============================] - 1s 21ms/step - loss: 0.3648 - binary_accuracy: 0.8268 - val_loss: 0.4630 - val_binary_accuracy: 0.8048\n",
            "Epoch 40/100\n",
            "51/51 [==============================] - 1s 21ms/step - loss: 0.3588 - binary_accuracy: 0.8341 - val_loss: 0.4675 - val_binary_accuracy: 0.7983\n",
            "Epoch 41/100\n",
            "51/51 [==============================] - 1s 17ms/step - loss: 0.3657 - binary_accuracy: 0.8281 - val_loss: 0.4570 - val_binary_accuracy: 0.8014\n",
            "Epoch 42/100\n",
            "51/51 [==============================] - 1s 15ms/step - loss: 0.3589 - binary_accuracy: 0.8327 - val_loss: 0.4610 - val_binary_accuracy: 0.8061\n",
            "Epoch 43/100\n",
            "51/51 [==============================] - 1s 21ms/step - loss: 0.3554 - binary_accuracy: 0.8348 - val_loss: 0.4743 - val_binary_accuracy: 0.8014\n",
            "Epoch 44/100\n",
            "51/51 [==============================] - 1s 27ms/step - loss: 0.3567 - binary_accuracy: 0.8334 - val_loss: 0.4728 - val_binary_accuracy: 0.8033\n",
            "Epoch 45/100\n",
            "51/51 [==============================] - 1s 17ms/step - loss: 0.3512 - binary_accuracy: 0.8335 - val_loss: 0.4707 - val_binary_accuracy: 0.8002\n",
            "Epoch 46/100\n",
            "51/51 [==============================] - 1s 19ms/step - loss: 0.3525 - binary_accuracy: 0.8353 - val_loss: 0.4581 - val_binary_accuracy: 0.8086\n",
            "Epoch 47/100\n",
            "51/51 [==============================] - 1s 22ms/step - loss: 0.3504 - binary_accuracy: 0.8378 - val_loss: 0.4679 - val_binary_accuracy: 0.8123\n",
            "Epoch 48/100\n",
            "51/51 [==============================] - 1s 16ms/step - loss: 0.3463 - binary_accuracy: 0.8376 - val_loss: 0.4731 - val_binary_accuracy: 0.8073\n",
            "Epoch 49/100\n",
            "51/51 [==============================] - 1s 17ms/step - loss: 0.3518 - binary_accuracy: 0.8354 - val_loss: 0.4664 - val_binary_accuracy: 0.8129\n",
            "Epoch 50/100\n",
            "51/51 [==============================] - 1s 25ms/step - loss: 0.3402 - binary_accuracy: 0.8398 - val_loss: 0.4580 - val_binary_accuracy: 0.8173\n",
            "Epoch 51/100\n",
            "51/51 [==============================] - 1s 26ms/step - loss: 0.3408 - binary_accuracy: 0.8419 - val_loss: 0.4532 - val_binary_accuracy: 0.8204\n",
            "Epoch 52/100\n",
            "51/51 [==============================] - 1s 24ms/step - loss: 0.3413 - binary_accuracy: 0.8400 - val_loss: 0.4548 - val_binary_accuracy: 0.8238\n",
            "Epoch 53/100\n",
            "51/51 [==============================] - 1s 24ms/step - loss: 0.3368 - binary_accuracy: 0.8466 - val_loss: 0.4712 - val_binary_accuracy: 0.8139\n",
            "Epoch 54/100\n",
            "51/51 [==============================] - 1s 25ms/step - loss: 0.3348 - binary_accuracy: 0.8459 - val_loss: 0.4614 - val_binary_accuracy: 0.8098\n",
            "Epoch 55/100\n",
            "51/51 [==============================] - 1s 22ms/step - loss: 0.3315 - binary_accuracy: 0.8480 - val_loss: 0.4558 - val_binary_accuracy: 0.8204\n",
            "Epoch 56/100\n",
            "51/51 [==============================] - 1s 19ms/step - loss: 0.3277 - binary_accuracy: 0.8487 - val_loss: 0.4618 - val_binary_accuracy: 0.8139\n",
            "Epoch 57/100\n",
            "51/51 [==============================] - 1s 12ms/step - loss: 0.3249 - binary_accuracy: 0.8529 - val_loss: 0.4450 - val_binary_accuracy: 0.8244\n",
            "Epoch 58/100\n",
            "51/51 [==============================] - 1s 12ms/step - loss: 0.3213 - binary_accuracy: 0.8515 - val_loss: 0.4637 - val_binary_accuracy: 0.8191\n",
            "Epoch 59/100\n",
            "51/51 [==============================] - 1s 13ms/step - loss: 0.3269 - binary_accuracy: 0.8493 - val_loss: 0.4624 - val_binary_accuracy: 0.8266\n",
            "Epoch 60/100\n",
            "51/51 [==============================] - 1s 12ms/step - loss: 0.3141 - binary_accuracy: 0.8557 - val_loss: 0.4585 - val_binary_accuracy: 0.8266\n",
            "Epoch 61/100\n",
            "51/51 [==============================] - 1s 12ms/step - loss: 0.3224 - binary_accuracy: 0.8543 - val_loss: 0.4775 - val_binary_accuracy: 0.8226\n",
            "Epoch 62/100\n",
            "51/51 [==============================] - 1s 13ms/step - loss: 0.3195 - binary_accuracy: 0.8564 - val_loss: 0.4435 - val_binary_accuracy: 0.8247\n",
            "Epoch 63/100\n",
            "51/51 [==============================] - 1s 13ms/step - loss: 0.3206 - binary_accuracy: 0.8536 - val_loss: 0.4523 - val_binary_accuracy: 0.8310\n",
            "Epoch 64/100\n",
            "51/51 [==============================] - 1s 20ms/step - loss: 0.3185 - binary_accuracy: 0.8551 - val_loss: 0.4626 - val_binary_accuracy: 0.8232\n",
            "Epoch 65/100\n",
            "51/51 [==============================] - 1s 29ms/step - loss: 0.3177 - binary_accuracy: 0.8535 - val_loss: 0.4614 - val_binary_accuracy: 0.8241\n",
            "Epoch 66/100\n",
            "51/51 [==============================] - 1s 27ms/step - loss: 0.3107 - binary_accuracy: 0.8546 - val_loss: 0.4572 - val_binary_accuracy: 0.8250\n",
            "Epoch 67/100\n",
            "51/51 [==============================] - 1s 17ms/step - loss: 0.3166 - binary_accuracy: 0.8596 - val_loss: 0.4464 - val_binary_accuracy: 0.8235\n",
            "Epoch 68/100\n",
            "51/51 [==============================] - 1s 12ms/step - loss: 0.3145 - binary_accuracy: 0.8579 - val_loss: 0.4441 - val_binary_accuracy: 0.8310\n",
            "Epoch 69/100\n",
            "51/51 [==============================] - 1s 12ms/step - loss: 0.3075 - binary_accuracy: 0.8604 - val_loss: 0.4414 - val_binary_accuracy: 0.8303\n",
            "Epoch 70/100\n",
            "51/51 [==============================] - 1s 13ms/step - loss: 0.3054 - binary_accuracy: 0.8616 - val_loss: 0.4483 - val_binary_accuracy: 0.8356\n",
            "Epoch 71/100\n",
            "51/51 [==============================] - 1s 13ms/step - loss: 0.3121 - binary_accuracy: 0.8594 - val_loss: 0.4595 - val_binary_accuracy: 0.8282\n",
            "Epoch 72/100\n",
            "51/51 [==============================] - 1s 13ms/step - loss: 0.3124 - binary_accuracy: 0.8599 - val_loss: 0.4484 - val_binary_accuracy: 0.8269\n",
            "Epoch 73/100\n",
            "51/51 [==============================] - 1s 12ms/step - loss: 0.3036 - binary_accuracy: 0.8621 - val_loss: 0.4516 - val_binary_accuracy: 0.8319\n",
            "Epoch 74/100\n",
            "51/51 [==============================] - 1s 13ms/step - loss: 0.2926 - binary_accuracy: 0.8672 - val_loss: 0.4719 - val_binary_accuracy: 0.8229\n",
            "Epoch 75/100\n",
            "51/51 [==============================] - 1s 13ms/step - loss: 0.3078 - binary_accuracy: 0.8589 - val_loss: 0.4390 - val_binary_accuracy: 0.8431\n",
            "Epoch 76/100\n",
            "51/51 [==============================] - 1s 13ms/step - loss: 0.3013 - binary_accuracy: 0.8677 - val_loss: 0.4459 - val_binary_accuracy: 0.8344\n",
            "Epoch 77/100\n",
            "51/51 [==============================] - 1s 12ms/step - loss: 0.2995 - binary_accuracy: 0.8661 - val_loss: 0.4467 - val_binary_accuracy: 0.8424\n",
            "Epoch 78/100\n",
            "51/51 [==============================] - 1s 13ms/step - loss: 0.2962 - binary_accuracy: 0.8682 - val_loss: 0.4447 - val_binary_accuracy: 0.8359\n",
            "Epoch 79/100\n",
            "51/51 [==============================] - 1s 12ms/step - loss: 0.2970 - binary_accuracy: 0.8670 - val_loss: 0.4522 - val_binary_accuracy: 0.8372\n",
            "Epoch 80/100\n",
            "51/51 [==============================] - 1s 12ms/step - loss: 0.2921 - binary_accuracy: 0.8722 - val_loss: 0.4510 - val_binary_accuracy: 0.8353\n",
            "Epoch 81/100\n",
            "51/51 [==============================] - 1s 12ms/step - loss: 0.2912 - binary_accuracy: 0.8703 - val_loss: 0.4361 - val_binary_accuracy: 0.8403\n",
            "Epoch 82/100\n",
            "51/51 [==============================] - 1s 19ms/step - loss: 0.2828 - binary_accuracy: 0.8770 - val_loss: 0.4403 - val_binary_accuracy: 0.8375\n",
            "Epoch 83/100\n",
            "51/51 [==============================] - 1s 19ms/step - loss: 0.2873 - binary_accuracy: 0.8726 - val_loss: 0.4479 - val_binary_accuracy: 0.8372\n",
            "Epoch 84/100\n",
            "51/51 [==============================] - 1s 20ms/step - loss: 0.2888 - binary_accuracy: 0.8745 - val_loss: 0.4321 - val_binary_accuracy: 0.8397\n",
            "Epoch 85/100\n",
            "51/51 [==============================] - 1s 14ms/step - loss: 0.2878 - binary_accuracy: 0.8701 - val_loss: 0.4457 - val_binary_accuracy: 0.8390\n",
            "Epoch 86/100\n",
            "51/51 [==============================] - 1s 13ms/step - loss: 0.2810 - binary_accuracy: 0.8773 - val_loss: 0.4603 - val_binary_accuracy: 0.8387\n",
            "Epoch 87/100\n",
            "51/51 [==============================] - 1s 13ms/step - loss: 0.2886 - binary_accuracy: 0.8702 - val_loss: 0.4653 - val_binary_accuracy: 0.8393\n",
            "Epoch 88/100\n",
            "51/51 [==============================] - 1s 13ms/step - loss: 0.2878 - binary_accuracy: 0.8724 - val_loss: 0.4552 - val_binary_accuracy: 0.8440\n",
            "Epoch 89/100\n",
            "51/51 [==============================] - 1s 13ms/step - loss: 0.2735 - binary_accuracy: 0.8811 - val_loss: 0.4572 - val_binary_accuracy: 0.8484\n",
            "Epoch 90/100\n",
            "51/51 [==============================] - 1s 13ms/step - loss: 0.2729 - binary_accuracy: 0.8792 - val_loss: 0.4317 - val_binary_accuracy: 0.8449\n",
            "Epoch 91/100\n",
            "51/51 [==============================] - 1s 13ms/step - loss: 0.2821 - binary_accuracy: 0.8734 - val_loss: 0.4666 - val_binary_accuracy: 0.8369\n",
            "Epoch 92/100\n",
            "51/51 [==============================] - 1s 12ms/step - loss: 0.2735 - binary_accuracy: 0.8794 - val_loss: 0.4583 - val_binary_accuracy: 0.8328\n",
            "Epoch 93/100\n",
            "51/51 [==============================] - 1s 12ms/step - loss: 0.2807 - binary_accuracy: 0.8748 - val_loss: 0.4468 - val_binary_accuracy: 0.8468\n",
            "Epoch 94/100\n",
            "51/51 [==============================] - 1s 12ms/step - loss: 0.2718 - binary_accuracy: 0.8826 - val_loss: 0.4351 - val_binary_accuracy: 0.8508\n"
          ]
        }
      ]
    },
    {
      "cell_type": "code",
      "source": [
        "plt.figure(figsize=(15,6))\n",
        "plt.plot(history.history['binary_accuracy'],color='b',label = 'train dataset',linewidth=5)\n",
        "plt.plot(history.history['val_binary_accuracy'],color='g',label='testdataset',linewidth=5)\n",
        "plt.legend()\n",
        "plt.show()"
      ],
      "metadata": {
        "colab": {
          "base_uri": "https://localhost:8080/",
          "height": 383
        },
        "id": "-ezh-blBFcg2",
        "outputId": "3c37d2a7-26b5-4849-fb30-0d47d1e0c89a"
      },
      "execution_count": 136,
      "outputs": [
        {
          "output_type": "display_data",
          "data": {
            "text/plain": [
              "<Figure size 1080x432 with 1 Axes>"
            ],
            "image/png": "[encoded data removed]"
          },
          "metadata": {
            "needs_background": "light"
          }
        }
      ]
    },
    {
      "cell_type": "code",
      "source": [],
      "metadata": {
        "id": "A_w4cKBlIZCP"
      },
      "execution_count": null,
      "outputs": []
    },
    {
      "cell_type": "markdown",
      "source": [
        "# got accuracy around 88% on train set and 85% on test set"
      ],
      "metadata": {
        "id": "evjCDTBeIbxl"
      }
    },
    {
      "cell_type": "code",
      "source": [],
      "metadata": {
        "id": "EL9IARY4IixH"
      },
      "execution_count": null,
      "outputs": []
    }
  ]
}