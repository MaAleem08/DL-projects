{
  "nbformat": 4,
  "nbformat_minor": 0,
  "metadata": {
    "colab": {
      "private_outputs": true,
      "provenance": [],
      "gpuType": "T4"
    },
    "kernelspec": {
      "name": "python3",
      "display_name": "Python 3"
    },
    "language_info": {
      "name": "python"
    },
    "accelerator": "GPU"
  },
  "cells": [
    {
      "cell_type": "code",
      "source": [
        "import pandas as pd , numpy as np , matplotlib.pyplot as plt,tensorflow as tf , matplotlib as mpl\n",
        "from sklearn.model_selection import train_test_split as tts\n",
        "from sklearn.preprocessing import MinMaxScaler , StandardScaler\n",
        "from tensorflow.keras.models import Model\n",
        "import tensorflow.keras.layers as layers"
      ],
      "metadata": {
        "id": "ak3PnS1fwVP0"
      },
      "execution_count": null,
      "outputs": []
    },
    {
      "cell_type": "code",
      "source": [
        "df = pd.read_csv('http://storage.googleapis.com/download.tensorflow.org/data/ecg.csv',header=None,prefix='c')\n",
        "df.head()"
      ],
      "metadata": {
        "id": "uKU0zQZMvsPs"
      },
      "execution_count": null,
      "outputs": []
    },
    {
      "cell_type": "code",
      "source": [
        "last_col = df.pop('c140')\n",
        "df.insert(0,'target',last_col)"
      ],
      "metadata": {
        "id": "4-yl_O6BxSz-"
      },
      "execution_count": null,
      "outputs": []
    },
    {
      "cell_type": "code",
      "source": [
        "df['target'].value_counts()"
      ],
      "metadata": {
        "id": "aWQUa9Uf8EE0"
      },
      "execution_count": null,
      "outputs": []
    },
    {
      "cell_type": "code",
      "source": [
        "df.describe()"
      ],
      "metadata": {
        "id": "mObGHdyu80xt"
      },
      "execution_count": null,
      "outputs": []
    },
    {
      "cell_type": "code",
      "source": [
        "train,test,y_train,y_test = tts(df.values , df.values[:,0],test_size = 0.2 ,random_state = 111)"
      ],
      "metadata": {
        "id": "vGHAdQlq9ECJ"
      },
      "execution_count": null,
      "outputs": []
    },
    {
      "cell_type": "code",
      "source": [
        "scaler = MinMaxScaler()\n",
        "scaler = scaler.fit(train)\n",
        "train_sc = scaler.transform(train)\n",
        "test_sc = scaler.transform(test)"
      ],
      "metadata": {
        "id": "sfFSRxLt9RkI"
      },
      "execution_count": null,
      "outputs": []
    },
    {
      "cell_type": "code",
      "source": [
        "normal_train_df = pd.DataFrame(train_sc).add_prefix('c').query('c0==1').values[:,1:]\n",
        "anomly_train_df = pd.DataFrame(train_sc).add_prefix('c').query('c0==0').values[:,1:]"
      ],
      "metadata": {
        "id": "eP6CHJwI9SOG"
      },
      "execution_count": null,
      "outputs": []
    },
    {
      "cell_type": "code",
      "source": [
        "normal_test_df = pd.DataFrame(test_sc).add_prefix('c').query('c0==1').values[:,1:]\n",
        "anomly_test_df = pd.DataFrame(test_sc).add_prefix('c').query('c0==0').values[:,1:]"
      ],
      "metadata": {
        "id": "FW81vxi6s33b"
      },
      "execution_count": null,
      "outputs": []
    },
    {
      "cell_type": "code",
      "source": [
        "print(normal_train_df.shape)\n",
        "print(anomly_train_df.shape)"
      ],
      "metadata": {
        "id": "rPK17TdQCcWC"
      },
      "execution_count": null,
      "outputs": []
    },
    {
      "cell_type": "code",
      "source": [
        "plt.plot(normal_train_df[0])\n",
        "plt.plot(normal_train_df[1])\n",
        "plt.plot(normal_train_df[2])"
      ],
      "metadata": {
        "id": "5IkmkTC4C-pp"
      },
      "execution_count": null,
      "outputs": []
    },
    {
      "cell_type": "code",
      "source": [
        "plt.plot(anomly_train_df[0])\n",
        "plt.plot(anomly_train_df[1])\n",
        "plt.plot(anomly_train_df[2])"
      ],
      "metadata": {
        "id": "rjhwVTqCDuwP"
      },
      "execution_count": null,
      "outputs": []
    },
    {
      "cell_type": "code",
      "source": [
        "import tensorflow.keras.layers as layers\n",
        "\n",
        "class AnomalyDetector(Model):\n",
        "  def __init__(self):\n",
        "    super(AnomalyDetector, self).__init__()\n",
        "    self.encoder = tf.keras.Sequential([\n",
        "      layers.Dense(64, activation=\"relu\"),\n",
        "      layers.Dense(32, activation=\"relu\"),\n",
        "      layers.Dense(16, activation=\"relu\"),\n",
        "      layers.Dense(8, activation=\"relu\")])\n",
        "\n",
        "    self.decoder = tf.keras.Sequential([\n",
        "      layers.Dense(16, activation=\"relu\"),\n",
        "      layers.Dense(32, activation=\"relu\"),\n",
        "      layers.Dense(64, activation=\"relu\"),\n",
        "      layers.Dense(140, activation=\"sigmoid\")])\n",
        "\n",
        "  def call(self, x):\n",
        "    encoded = self.encoder(x)\n",
        "    decoded = self.decoder(encoded)\n",
        "    return decoded\n",
        "\n",
        "\n",
        "model = AnomalyDetector()"
      ],
      "metadata": {
        "id": "EduRpYNqMA1W"
      },
      "execution_count": null,
      "outputs": []
    },
    {
      "cell_type": "code",
      "source": [
        "early_stopping = tf.keras.callbacks.EarlyStopping(monitor = 'val_loss',patience = 2,mode= 'min')\n",
        "\n",
        "model.compile(optimizer = 'adam',loss='mae')"
      ],
      "metadata": {
        "id": "22NZN1kfHpP9"
      },
      "execution_count": null,
      "outputs": []
    },
    {
      "cell_type": "code",
      "source": [
        "history = model.fit(normal_train_df,normal_train_df,epochs = 100,batch_size = 128,validation_data = (train_sc[:,1:],train_sc[:,1:]),shuffle=True)"
      ],
      "metadata": {
        "id": "t76E_paTIxP3"
      },
      "execution_count": null,
      "outputs": []
    },
    {
      "cell_type": "code",
      "source": [
        "encoder_out = model.encoder(normal_test_df).numpy()\n",
        "decoder_out = model.decoder(encoder_out).numpy()"
      ],
      "metadata": {
        "id": "_2daGpIPKC9o"
      },
      "execution_count": null,
      "outputs": []
    },
    {
      "cell_type": "code",
      "source": [
        "print(encoder_out.shape)\n",
        "print(decoder_out.shape)"
      ],
      "metadata": {
        "id": "i6fiKbQwr6ko"
      },
      "execution_count": null,
      "outputs": []
    },
    {
      "cell_type": "code",
      "source": [
        "plt.plot(normal_test_df[0],'b')\n",
        "plt.plot(decoder_out[0],'r')\n",
        "plt.fill_between(np.arange(140),decoder_out[0],normal_test_df[0],color='lightcoral')\n",
        "# plt.fill_between(np.arange(140), decoded_imgs[0], normal_test_data[0], color='lightcoral' )"
      ],
      "metadata": {
        "id": "0tPrgoK0r_Qn"
      },
      "execution_count": null,
      "outputs": []
    },
    {
      "cell_type": "code",
      "source": [
        "encoder_out_a = model.encoder(anomly_test_df).numpy()\n",
        "decoder_out_a = model.decoder(encoder_out_a).numpy()\n",
        "\n",
        "plt.plot(anomly_test_df[0],'b')\n",
        "plt.plot(decoder_out_a[0],'r')\n",
        "plt.fill_between(np.arange(140),decoder_out_a[0],anomly_test_df[0],color = 'lightcoral')"
      ],
      "metadata": {
        "id": "87uBETIYui7Y"
      },
      "execution_count": null,
      "outputs": []
    },
    {
      "cell_type": "code",
      "source": [
        "reconstruction= model.predict(normal_test_df)\n",
        "train_loss  = tf.keras.losses.mae(reconstruction,normal_test_df)\n",
        "\n",
        "plt.hist(train_loss,bins = 50)\n",
        "plt.show()"
      ],
      "metadata": {
        "id": "M3be7-Jrutjj"
      },
      "execution_count": null,
      "outputs": []
    },
    {
      "cell_type": "code",
      "source": [
        "print(np.mean(train_loss))\n",
        "print(np.std(train_loss))"
      ],
      "metadata": {
        "id": "xxoeQENE3w6C"
      },
      "execution_count": null,
      "outputs": []
    },
    {
      "cell_type": "code",
      "source": [
        "threshold = np.mean(train_loss)+2*np.std(train_loss)\n",
        "threshold"
      ],
      "metadata": {
        "id": "wHFX1rnGwtpm"
      },
      "execution_count": null,
      "outputs": []
    },
    {
      "cell_type": "code",
      "source": [
        "reconstruction_a = model.predict(anomly_test_df)\n",
        "train_loss_a = tf.keras.losses.mae(reconstruction_a,anomly_test_df)\n",
        "\n",
        "plt.hist(train_loss_a,bins=50)\n",
        "plt.show()"
      ],
      "metadata": {
        "id": "h7Vk2g681dl5"
      },
      "execution_count": null,
      "outputs": []
    },
    {
      "cell_type": "code",
      "source": [
        "print(np.mean(train_loss_a))\n",
        "print(np.std(train_loss_a))"
      ],
      "metadata": {
        "id": "wfrT1rLw5DKv"
      },
      "execution_count": null,
      "outputs": []
    },
    {
      "cell_type": "code",
      "source": [
        "plt.hist(train_loss,bins=50,label='normal')\n",
        "plt.hist(train_loss_a,bins=50,label='anomly')\n",
        "plt.axvline(threshold , color='r',linewidth=3,linestyle = 'dashed',label = '{:03f}'.format(threshold))\n",
        "plt.show()"
      ],
      "metadata": {
        "id": "lpyM4PGu3gms"
      },
      "execution_count": null,
      "outputs": []
    },
    {
      "cell_type": "code",
      "source": [
        "tf.math.less(train_loss,threshold)"
      ],
      "metadata": {
        "id": "R_rvS_ho5ek5"
      },
      "execution_count": null,
      "outputs": []
    },
    {
      "cell_type": "code",
      "source": [
        "pred = tf.math.less(train_loss,threshold)\n",
        "tf.math.count_nonzero(pred)"
      ],
      "metadata": {
        "id": "CoabkKC74j36"
      },
      "execution_count": null,
      "outputs": []
    },
    {
      "cell_type": "code",
      "source": [
        "pred.shape"
      ],
      "metadata": {
        "id": "cXTjGD7m5ZYL"
      },
      "execution_count": null,
      "outputs": []
    },
    {
      "cell_type": "code",
      "source": [
        "# for noraml use tf.math.less , for anomly use tf.math.greater than threshold\n",
        "pred_a = tf.math.greater(train_loss_a,threshold)\n",
        "tf.math.count_nonzero(pred_a)"
      ],
      "metadata": {
        "id": "7cOslMeS5yqr"
      },
      "execution_count": null,
      "outputs": []
    },
    {
      "cell_type": "code",
      "source": [
        "pred_a.shape"
      ],
      "metadata": {
        "id": "zk3zbdFA6U0g"
      },
      "execution_count": null,
      "outputs": []
    },
    {
      "cell_type": "code",
      "source": [
        "plt.plot(train[0],color = 'r',linewidth = 2)\n",
        "plt.axhline(threshold,color = 'b',linewidth = 1.5,linestyle = '--')"
      ],
      "metadata": {
        "id": "hfKbp6OJ6XyF"
      },
      "execution_count": null,
      "outputs": []
    },
    {
      "cell_type": "code",
      "source": [],
      "metadata": {
        "id": "fxK4Hyl8-_2j"
      },
      "execution_count": null,
      "outputs": []
    },
    {
      "cell_type": "code",
      "source": [],
      "metadata": {
        "id": "Zq4YSRgq_jV9"
      },
      "execution_count": null,
      "outputs": []
    },
    {
      "cell_type": "code",
      "source": [],
      "metadata": {
        "id": "zN6TBYBJN2-0"
      },
      "execution_count": null,
      "outputs": []
    },
    {
      "cell_type": "code",
      "source": [],
      "metadata": {
        "id": "ijRqj2geN3C3"
      },
      "execution_count": null,
      "outputs": []
    },
    {
      "cell_type": "code",
      "source": [],
      "metadata": {
        "id": "nF5NBt25N3Gd"
      },
      "execution_count": null,
      "outputs": []
    },
    {
      "cell_type": "code",
      "source": [],
      "metadata": {
        "id": "7cr6eGOfN3Jm"
      },
      "execution_count": null,
      "outputs": []
    },
    {
      "cell_type": "code",
      "source": [],
      "metadata": {
        "id": "Zv3ePb0jN3Mq"
      },
      "execution_count": null,
      "outputs": []
    },
    {
      "cell_type": "markdown",
      "source": [
        "### anomly detection using LSTM"
      ],
      "metadata": {
        "id": "13RoDnPON4nZ"
      }
    },
    {
      "cell_type": "code",
      "source": [
        "import tensorflow as tf , tensorflow.keras as keras , numpy as np ,pandas as pd , matplotlib.pyplot as plt ,plotly.graph_objects as go,seaborn as sns\n",
        "from tensorflow.keras.models import Sequential\n",
        "from tensorflow.keras.layers import LSTM , Dense , Dropout , RepeatVector,TimeDistributed"
      ],
      "metadata": {
        "id": "yCV2YJbsN3Pi"
      },
      "execution_count": null,
      "outputs": []
    },
    {
      "cell_type": "code",
      "source": [
        "df = pd.read_csv('/content/GOOGL.csv')\n",
        "df.head()"
      ],
      "metadata": {
        "id": "CDEtDf-aOlf2"
      },
      "execution_count": null,
      "outputs": []
    },
    {
      "cell_type": "code",
      "source": [
        "df = df[['Date','Close']]\n",
        "df.head()"
      ],
      "metadata": {
        "id": "GXMkLxwXPpXY"
      },
      "execution_count": null,
      "outputs": []
    },
    {
      "cell_type": "code",
      "source": [
        "df.info()"
      ],
      "metadata": {
        "id": "5QuYLDzLPxGK"
      },
      "execution_count": null,
      "outputs": []
    },
    {
      "cell_type": "code",
      "source": [
        "df['Date'].min(),df['Date'].max()"
      ],
      "metadata": {
        "id": "M0FREaC7P3dv"
      },
      "execution_count": null,
      "outputs": []
    },
    {
      "cell_type": "markdown",
      "source": [
        "### visualize data"
      ],
      "metadata": {
        "id": "uvvjwNw2QLgv"
      }
    },
    {
      "cell_type": "code",
      "source": [
        "plt.figure(figsize = (15,6))\n",
        "plt.plot(df['Date'],df['Close'],label = 'closing price')\n",
        "plt.title('Apple .Inc stock prices 2004 - 2020')\n",
        "plt.show()"
      ],
      "metadata": {
        "id": "ftksrbGHQBBf"
      },
      "execution_count": null,
      "outputs": []
    },
    {
      "cell_type": "markdown",
      "source": [
        "### data preprocesing"
      ],
      "metadata": {
        "id": "Tc0iSYnJU4wm"
      }
    },
    {
      "cell_type": "code",
      "source": [
        "train = df.loc[df['Date']<='2017-12-24']\n",
        "test = df.loc[df['Date']>'2017-12-24']\n",
        "train.shape,test.shape"
      ],
      "metadata": {
        "id": "v3bgeVKeQIlh"
      },
      "execution_count": null,
      "outputs": []
    },
    {
      "cell_type": "code",
      "source": [
        "scaler = StandardScaler().fit(train['Close'].values.reshape(-1,1))\n",
        "train['Close'] = scaler.transform(train['Close'].values.reshape(-1,1))\n",
        "test['Close'] = scaler.transform(test['Close'].values.reshape(-1,1))    # or np.array(test['close].reshape(-1,1))"
      ],
      "metadata": {
        "id": "u9Hno-qgU3ke"
      },
      "execution_count": null,
      "outputs": []
    },
    {
      "cell_type": "code",
      "source": [
        "plt.figure(figsize=(15,6))\n",
        "plt.plot(train['Close'])\n",
        "plt.show()"
      ],
      "metadata": {
        "id": "WxSPtVE8V-m0"
      },
      "execution_count": null,
      "outputs": []
    },
    {
      "cell_type": "code",
      "source": [
        "time_steps = 30\n",
        "def create_seq(x,y,time_steps=time_steps):\n",
        "  x_out,y_out = [],[]\n",
        "  for i in range(len(x)-time_steps):\n",
        "    x_out.append(x.iloc[i:(i+time_steps)].values)\n",
        "    y_out.append(y.iloc[i+time_steps])\n",
        "  return np.array(x_out) , np.array(y_out)\n",
        "\n",
        "x_train , y_train = create_seq(train['Close'],train['Close'])\n",
        "x_test,y_test = create_seq(test['Close'],test['Close'])\n",
        "print(f'x_train shape is{x_train.shape}')\n",
        "print(f'x_test shape is{x_test.shape}')"
      ],
      "metadata": {
        "id": "InMtYvVsYXgT"
      },
      "execution_count": null,
      "outputs": []
    },
    {
      "cell_type": "code",
      "source": [
        "model = Sequential([\n",
        "    LSTM(128,activation='tanh',input_shape = (lag,n_fea)),\n",
        "    Dropout(0.2),\n",
        "    RepeatVector(lag),\n",
        "    LSTM(128,activation='tanh',return_sequences=True),\n",
        "    Dropout(0.2),\n",
        "    TimeDistributed(Dense(n_fea))\n",
        "])\n",
        "\n",
        "model.compile(optimizer = keras.optimizers.Adam(learning_rate = 0.001),loss='mae')\n",
        "model.summary()"
      ],
      "metadata": {
        "id": "mS28S2eIg9QY"
      },
      "execution_count": null,
      "outputs": []
    },
    {
      "cell_type": "code",
      "source": [
        "history = model.fit(x_train,y_train,epochs =100,validation_data = (x_test,y_test),batch_size = 32,\n",
        "                    callbacks = keras.callbacks.EarlyStopping(patience = 5,mode = 'min',monitor = 'val_loss'))"
      ],
      "metadata": {
        "id": "PCi-M2Fbivb4"
      },
      "execution_count": null,
      "outputs": []
    },
    {
      "cell_type": "code",
      "source": [],
      "metadata": {
        "id": "PdgQ-yL4riZv"
      },
      "execution_count": null,
      "outputs": []
    }
  ]
}